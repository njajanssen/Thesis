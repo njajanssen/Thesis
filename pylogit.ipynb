{
 "cells": [
  {
   "cell_type": "code",
   "execution_count": 1,
   "metadata": {},
   "outputs": [],
   "source": [
    "from collections import OrderedDict    # For recording the model specification \n",
    "\n",
    "import pandas as pd                    # For file input/output\n",
    "import numpy as np                     # For vectorized math operations\n",
    "\n",
    "import pylogit as pl                   # For choice model estimation"
   ]
  },
  {
   "cell_type": "code",
   "execution_count": 7,
   "metadata": {},
   "outputs": [
    {
     "data": {
      "text/html": [
       "<div>\n",
       "<style scoped>\n",
       "    .dataframe tbody tr th:only-of-type {\n",
       "        vertical-align: middle;\n",
       "    }\n",
       "\n",
       "    .dataframe tbody tr th {\n",
       "        vertical-align: top;\n",
       "    }\n",
       "\n",
       "    .dataframe thead th {\n",
       "        text-align: right;\n",
       "    }\n",
       "</style>\n",
       "<table border=\"1\" class=\"dataframe\">\n",
       "  <thead>\n",
       "    <tr style=\"text-align: right;\">\n",
       "      <th></th>\n",
       "      <th>chosen</th>\n",
       "      <th>id</th>\n",
       "      <th>alt</th>\n",
       "      <th>display</th>\n",
       "      <th>feature</th>\n",
       "      <th>price</th>\n",
       "      <th>chid</th>\n",
       "    </tr>\n",
       "  </thead>\n",
       "  <tbody>\n",
       "    <tr>\n",
       "      <th>0</th>\n",
       "      <td>0.0</td>\n",
       "      <td>1.0</td>\n",
       "      <td>0</td>\n",
       "      <td>0.0</td>\n",
       "      <td>0.0</td>\n",
       "      <td>4.6</td>\n",
       "      <td>0</td>\n",
       "    </tr>\n",
       "    <tr>\n",
       "      <th>1</th>\n",
       "      <td>0.0</td>\n",
       "      <td>1.0</td>\n",
       "      <td>1</td>\n",
       "      <td>0.0</td>\n",
       "      <td>0.0</td>\n",
       "      <td>3.7</td>\n",
       "      <td>0</td>\n",
       "    </tr>\n",
       "    <tr>\n",
       "      <th>2</th>\n",
       "      <td>1.0</td>\n",
       "      <td>1.0</td>\n",
       "      <td>2</td>\n",
       "      <td>0.0</td>\n",
       "      <td>0.0</td>\n",
       "      <td>5.2</td>\n",
       "      <td>0</td>\n",
       "    </tr>\n",
       "    <tr>\n",
       "      <th>3</th>\n",
       "      <td>0.0</td>\n",
       "      <td>1.0</td>\n",
       "      <td>3</td>\n",
       "      <td>0.0</td>\n",
       "      <td>0.0</td>\n",
       "      <td>3.4</td>\n",
       "      <td>0</td>\n",
       "    </tr>\n",
       "    <tr>\n",
       "      <th>4</th>\n",
       "      <td>0.0</td>\n",
       "      <td>1.0</td>\n",
       "      <td>0</td>\n",
       "      <td>0.0</td>\n",
       "      <td>0.0</td>\n",
       "      <td>4.6</td>\n",
       "      <td>1</td>\n",
       "    </tr>\n",
       "  </tbody>\n",
       "</table>\n",
       "</div>"
      ],
      "text/plain": [
       "   chosen   id  alt  display  feature  price  chid\n",
       "0     0.0  1.0    0      0.0      0.0    4.6     0\n",
       "1     0.0  1.0    1      0.0      0.0    3.7     0\n",
       "2     1.0  1.0    2      0.0      0.0    5.2     0\n",
       "3     0.0  1.0    3      0.0      0.0    3.4     0\n",
       "4     0.0  1.0    0      0.0      0.0    4.6     1"
      ]
     },
     "execution_count": 7,
     "metadata": {},
     "output_type": "execute_result"
    }
   ],
   "source": [
    "catsup = pd.read_csv('data/catsup_trainformat.csv')\n",
    "catsup = catsup.drop('Unnamed: 0', axis=1)\n",
    "catsup.head()"
   ]
  },
  {
   "cell_type": "code",
   "execution_count": 3,
   "metadata": {},
   "outputs": [],
   "source": [
    "#get variable list\n",
    "index_var_names = ['display','feature','price']\n",
    "for col in index_var_names:\n",
    "    catsup[col] = catsup[col].astype(float)"
   ]
  },
  {
   "cell_type": "code",
   "execution_count": 4,
   "metadata": {},
   "outputs": [],
   "source": [
    "#specification\n",
    "example_specification = OrderedDict()\n",
    "example_names = OrderedDict()\n",
    "\n",
    "# Note that the names used below are simply for consistency with\n",
    "# the coefficient names given in the mlogit vignette.\n",
    "for col in index_var_names:\n",
    "    example_specification[col] = [[0, 1, 2, 3]]\n",
    "    example_names[col] = [col]"
   ]
  },
  {
   "cell_type": "code",
   "execution_count": 8,
   "metadata": {},
   "outputs": [
    {
     "name": "stdout",
     "output_type": "stream",
     "text": [
      "Log-likelihood at zero: -3,878.8516\n",
      "Initial Log-likelihood: -3,878.8516\n"
     ]
    },
    {
     "name": "stderr",
     "output_type": "stream",
     "text": [
      "C:\\Users\\niels\\Anaconda3\\lib\\site-packages\\scipy\\optimize\\_minimize.py:507: RuntimeWarning: Method BFGS does not use Hessian information (hess).\n",
      "  RuntimeWarning)\n"
     ]
    },
    {
     "name": "stdout",
     "output_type": "stream",
     "text": [
      "Estimation Time for Point Estimation: 1.71 minutes.\n",
      "Final log-likelihood: -2,815.2232\n"
     ]
    },
    {
     "name": "stderr",
     "output_type": "stream",
     "text": [
      "C:\\Users\\niels\\Anaconda3\\lib\\site-packages\\pylogit\\base_multinomial_cm_v2.py:1259: RuntimeWarning: invalid value encountered in sqrt\n",
      "  self._store_inferential_results(np.sqrt(np.diag(self.robust_cov)),\n",
      "C:\\Users\\niels\\Anaconda3\\lib\\site-packages\\scipy\\stats\\_distn_infrastructure.py:879: RuntimeWarning: invalid value encountered in greater\n",
      "  return (self.a < x) & (x < self.b)\n",
      "C:\\Users\\niels\\Anaconda3\\lib\\site-packages\\scipy\\stats\\_distn_infrastructure.py:879: RuntimeWarning: invalid value encountered in less\n",
      "  return (self.a < x) & (x < self.b)\n",
      "C:\\Users\\niels\\Anaconda3\\lib\\site-packages\\scipy\\stats\\_distn_infrastructure.py:1821: RuntimeWarning: invalid value encountered in less_equal\n",
      "  cond2 = cond0 & (x <= self.a)\n"
     ]
    },
    {
     "data": {
      "text/html": [
       "<table class=\"simpletable\">\n",
       "<caption>Mixed Logit Model Regression Results</caption>\n",
       "<tr>\n",
       "  <th>Dep. Variable:</th>      <td>chosen</td>       <th>  No. Observations:  </th>    <td>2,798</td>  \n",
       "</tr>\n",
       "<tr>\n",
       "  <th>Model:</th>         <td>Mixed Logit Model</td> <th>  Df Residuals:      </th>    <td>2,792</td>  \n",
       "</tr>\n",
       "<tr>\n",
       "  <th>Method:</th>               <td>MLE</td>        <th>  Df Model:          </th>      <td>6</td>    \n",
       "</tr>\n",
       "<tr>\n",
       "  <th>Date:</th>          <td>Mon, 27 May 2019</td>  <th>  Pseudo R-squ.:     </th>    <td>0.274</td>  \n",
       "</tr>\n",
       "<tr>\n",
       "  <th>Time:</th>              <td>17:35:06</td>      <th>  Pseudo R-bar-squ.: </th>    <td>0.273</td>  \n",
       "</tr>\n",
       "<tr>\n",
       "  <th>AIC:</th>               <td>5,642.446</td>     <th>  Log-Likelihood:    </th> <td>-2,815.223</td>\n",
       "</tr>\n",
       "<tr>\n",
       "  <th>BIC:</th>               <td>5,678.066</td>     <th>  LL-Null:           </th> <td>-3,878.852</td>\n",
       "</tr>\n",
       "</table>\n",
       "<table class=\"simpletable\">\n",
       "<tr>\n",
       "        <td></td>           <th>coef</th>     <th>std err</th>      <th>z</th>      <th>P>|z|</th>  <th>[0.025</th>    <th>0.975]</th>  \n",
       "</tr>\n",
       "<tr>\n",
       "  <th>display</th>       <td>    1.4197</td> <td>    0.110</td> <td>   12.950</td> <td> 0.000</td> <td>    1.205</td> <td>    1.635</td>\n",
       "</tr>\n",
       "<tr>\n",
       "  <th>feature</th>       <td>    1.0881</td> <td>    0.121</td> <td>    9.022</td> <td> 0.000</td> <td>    0.852</td> <td>    1.324</td>\n",
       "</tr>\n",
       "<tr>\n",
       "  <th>price</th>         <td>   -1.0520</td> <td>    0.087</td> <td>  -12.109</td> <td> 0.000</td> <td>   -1.222</td> <td>   -0.882</td>\n",
       "</tr>\n",
       "<tr>\n",
       "  <th>Sigma display</th> <td>   -0.5360</td> <td>    0.240</td> <td>   -2.233</td> <td> 0.026</td> <td>   -1.006</td> <td>   -0.065</td>\n",
       "</tr>\n",
       "<tr>\n",
       "  <th>Sigma feature</th> <td>    0.1091</td> <td>    1.050</td> <td>    0.104</td> <td> 0.917</td> <td>   -1.949</td> <td>    2.167</td>\n",
       "</tr>\n",
       "<tr>\n",
       "  <th>Sigma price</th>   <td>    1.1598</td> <td>    0.073</td> <td>   15.905</td> <td> 0.000</td> <td>    1.017</td> <td>    1.303</td>\n",
       "</tr>\n",
       "</table>"
      ],
      "text/plain": [
       "<class 'statsmodels.iolib.summary.Summary'>\n",
       "\"\"\"\n",
       "                     Mixed Logit Model Regression Results                     \n",
       "==============================================================================\n",
       "Dep. Variable:                 chosen   No. Observations:                2,798\n",
       "Model:              Mixed Logit Model   Df Residuals:                    2,792\n",
       "Method:                           MLE   Df Model:                            6\n",
       "Date:                Mon, 27 May 2019   Pseudo R-squ.:                   0.274\n",
       "Time:                        17:35:06   Pseudo R-bar-squ.:               0.273\n",
       "AIC:                        5,642.446   Log-Likelihood:             -2,815.223\n",
       "BIC:                        5,678.066   LL-Null:                    -3,878.852\n",
       "=================================================================================\n",
       "                    coef    std err          z      P>|z|      [0.025      0.975]\n",
       "---------------------------------------------------------------------------------\n",
       "display           1.4197      0.110     12.950      0.000       1.205       1.635\n",
       "feature           1.0881      0.121      9.022      0.000       0.852       1.324\n",
       "price            -1.0520      0.087    -12.109      0.000      -1.222      -0.882\n",
       "Sigma display    -0.5360      0.240     -2.233      0.026      -1.006      -0.065\n",
       "Sigma feature     0.1091      1.050      0.104      0.917      -1.949       2.167\n",
       "Sigma price       1.1598      0.073     15.905      0.000       1.017       1.303\n",
       "=================================================================================\n",
       "\"\"\""
      ]
     },
     "execution_count": 8,
     "metadata": {},
     "output_type": "execute_result"
    }
   ],
   "source": [
    "# Provide the module with the needed input arguments to create\n",
    "# an instance of the Mixed Logit model class.\n",
    "\n",
    "# Note that \"chid\" is used as the obs_id_col because \"chid\" is\n",
    "# the choice situation id.\n",
    "\n",
    "# Currently, the obs_id_col argument name is unfortunate because\n",
    "# in the most general of senses, it refers to the situation id.\n",
    "# In panel data settings, the mixing_id_col argument is what one \n",
    "# would generally think of as a \"observation id\".\n",
    "\n",
    "# For mixed logit models, the \"mixing_id_col\" argument specifies\n",
    "# the units of observation that the coefficients are randomly\n",
    "# distributed over.\n",
    "example_mixed = pl.create_choice_model(data=catsup,\n",
    "                                       alt_id_col=\"alt\",\n",
    "                                       obs_id_col=\"chid\",\n",
    "                                       choice_col=\"chosen\",\n",
    "                                       specification=example_specification,\n",
    "                                       model_type=\"Mixed Logit\",\n",
    "                                       names=example_names,\n",
    "                                       mixing_id_col=\"id\",\n",
    "                                       mixing_vars=index_var_names)\n",
    "\n",
    "# Note 2 * len(index_var_names) is used because we are estimating\n",
    "# both the mean and standard deviation of each of the random coefficients\n",
    "# for the listed index variables.\n",
    "example_mixed.fit_mle(init_vals=np.zeros(2 * len(index_var_names)),\n",
    "                      num_draws=600,\n",
    "                      seed=123)\n",
    "\n",
    "# Look at the estimated results\n",
    "example_mixed.get_statsmodels_summary()"
   ]
  },
  {
   "cell_type": "code",
   "execution_count": null,
   "metadata": {},
   "outputs": [],
   "source": [
    "example_mixed."
   ]
  }
 ],
 "metadata": {
  "kernelspec": {
   "display_name": "Python 3",
   "language": "python",
   "name": "python3"
  },
  "language_info": {
   "codemirror_mode": {
    "name": "ipython",
    "version": 3
   },
   "file_extension": ".py",
   "mimetype": "text/x-python",
   "name": "python",
   "nbconvert_exporter": "python",
   "pygments_lexer": "ipython3",
   "version": "3.7.1"
  }
 },
 "nbformat": 4,
 "nbformat_minor": 2
}
