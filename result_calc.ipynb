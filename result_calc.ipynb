{
 "cells": [
  {
   "cell_type": "code",
   "execution_count": 1,
   "metadata": {},
   "outputs": [],
   "source": [
    "from mmnl import MMNL\n",
    "import numpy as np\n",
    "import pickle\n",
    "import pandas as pd\n"
   ]
  },
  {
   "cell_type": "code",
   "execution_count": null,
   "metadata": {},
   "outputs": [],
   "source": [
    "from pydrive.auth import GoogleAuth\n",
    "from pydrive.drive import GoogleDrive\n",
    "from google.colab import auth\n",
    "from oauth2client.client import GoogleCredentials"
   ]
  },
  {
   "cell_type": "markdown",
   "metadata": {},
   "source": [
    "Authorize Google Drive to upload files to the drive"
   ]
  },
  {
   "cell_type": "code",
   "execution_count": null,
   "metadata": {},
   "outputs": [],
   "source": [
    "auth.authenticate_user()\n",
    "gauth = GoogleAuth()\n",
    "gauth.credentials = GoogleCredentials.get_application_default()\n",
    "drive = GoogleDrive(gauth)"
   ]
  },
  {
   "cell_type": "code",
   "execution_count": 2,
   "metadata": {},
   "outputs": [],
   "source": [
    "def load_data(path):\n",
    "    dat = np.load(path)\n",
    "    X = dat[:, :-1]\n",
    "    Y = np.reshape(dat[:, -1], (-1, 1))\n",
    "    return X, Y\n",
    "X, Y = load_data('data/data.npy')"
   ]
  },
  {
   "cell_type": "markdown",
   "metadata": {},
   "source": [
    "Load data"
   ]
  },
  {
   "cell_type": "code",
   "execution_count": 3,
   "metadata": {},
   "outputs": [
    {
     "name": "stdout",
     "output_type": "stream",
     "text": [
      "(2798, 500)\n",
      "Wall time: 20 ms\n"
     ]
    }
   ],
   "source": [
    "%%time\n",
    "infile = open('./data/500_MC_dgp_uts.p', 'rb')\n",
    "big_dict = pickle.load(infile)\n",
    "Y_dgp = big_dict['theta: [ 1.5  1.  -1.1  0.4  0.1  0.6]']\n",
    "print(Y_dgp.shape)"
   ]
  },
  {
   "cell_type": "code",
   "execution_count": null,
   "metadata": {},
   "outputs": [
    {
     "name": "stdout",
     "output_type": "stream",
     "text": [
      "iteration: 1\n",
      "      fun: 2427.184584538106\n",
      " hess_inv: array([[ 0.00166953,  0.00025182,  0.00064311, -0.00052609, -0.00130367,\n",
      "        -0.00088743],\n",
      "       [ 0.00025182,  0.00514701,  0.00351309,  0.00474316, -0.00745604,\n",
      "         0.00061821],\n",
      "       [ 0.00064311,  0.00351309,  0.00258276,  0.00301279, -0.00540661,\n",
      "         0.00019434],\n",
      "       [-0.00052609,  0.00474316,  0.00301279,  0.00520775, -0.00659412,\n",
      "         0.00098021],\n",
      "       [-0.00130367, -0.00745604, -0.00540661, -0.00659412,  0.01143666,\n",
      "        -0.00040807],\n",
      "       [-0.00088743,  0.00061821,  0.00019434,  0.00098021, -0.00040807,\n",
      "         0.00060568]])\n",
      "      jac: array([ 2.74658203e-04,  3.05175781e-05, -2.44140625e-04,  1.22070312e-04,\n",
      "       -9.15527344e-05,  9.15527344e-05])\n",
      "  message: 'Desired error not necessarily achieved due to precision loss.'\n",
      "     nfev: 1980\n",
      "      nit: 61\n",
      "     njev: 246\n",
      "   status: 2\n",
      "  success: False\n",
      "        x: array([ 1.17550666,  0.94289819, -1.62021435, -9.22898195, -0.54190046,\n",
      "       -3.58801493]) \n",
      " 113.84098839759827\n",
      "iteration: 2\n",
      "      fun: 3037.3999151508197\n",
      " hess_inv: array([[ 1.30569559e-02, -2.42023648e-04, -8.79354960e-04,\n",
      "        -1.44951247e-01,  1.42410023e+01,  3.76512035e-01],\n",
      "       [-2.42023648e-04,  1.10799955e-02,  4.73692850e-05,\n",
      "        -1.65754298e-02,  1.86260264e+00,  5.08691701e-02],\n",
      "       [-8.79354960e-04,  4.73692850e-05,  1.42385248e-03,\n",
      "         4.00759354e-02, -4.19478033e+00, -1.13567146e-01],\n",
      "       [-1.44951247e-01, -1.65754298e-02,  4.00759354e-02,\n",
      "         4.54736858e+00, -4.76215399e+02, -1.29332888e+01],\n",
      "       [ 1.42410023e+01,  1.86260264e+00, -4.19478033e+00,\n",
      "        -4.76215399e+02,  5.00055288e+04,  1.35850779e+03],\n",
      "       [ 3.76512035e-01,  5.08691701e-02, -1.13567146e-01,\n",
      "        -1.29332888e+01,  1.35850779e+03,  3.69403181e+01]])\n",
      "      jac: array([ 3.35693359e-04, -9.15527344e-05, -6.10351562e-05,  2.74658203e-04,\n",
      "        0.00000000e+00,  2.13623047e-04])\n",
      "  message: 'Desired error not necessarily achieved due to precision loss.'\n",
      "     nfev: 1010\n",
      "      nit: 40\n",
      "     njev: 125\n",
      "   status: 2\n",
      "  success: False\n",
      "        x: array([  1.96376488,   0.9509708 ,  -0.74291899,  -1.43931787,\n",
      "       -32.66542808,  -2.51635024]) \n",
      " 63.277366638183594\n",
      "iteration: 3\n",
      "      fun: 3128.2324617980016\n",
      " hess_inv: array([[ 1.20451281e-02, -2.18882299e-03,  1.90622975e-03,\n",
      "         1.26390824e+00, -1.38899390e-01, -2.24610427e-01],\n",
      "       [-2.18882299e-03,  1.26137551e-02, -2.35968522e-04,\n",
      "        -1.73256191e-01,  2.99114349e-02, -1.08782470e-02],\n",
      "       [ 1.90622975e-03, -2.35968522e-04,  1.24801135e-03,\n",
      "         3.09625287e-01, -3.47616594e-02, -4.87345436e-02],\n",
      "       [ 1.26390824e+00, -1.73256191e-01,  3.09625287e-01,\n",
      "         3.51480326e+02, -3.92130590e+01, -6.90219416e+01],\n",
      "       [-1.38899390e-01,  2.99114349e-02, -3.47616594e-02,\n",
      "        -3.92130590e+01,  4.72068191e+00,  5.32021837e+00],\n",
      "       [-2.24610427e-01, -1.08782470e-02, -4.87345436e-02,\n",
      "        -6.90219416e+01,  5.32021837e+00,  3.02836480e+01]])\n",
      "      jac: array([-2.13623047e-04, -1.22070312e-04, -3.05175781e-05, -6.10351562e-05,\n",
      "       -3.05175781e-05, -3.05175781e-05])\n",
      "  message: 'Desired error not necessarily achieved due to precision loss.'\n",
      "     nfev: 505\n",
      "      nit: 44\n",
      "     njev: 63\n",
      "   status: 2\n",
      "  success: False\n",
      "        x: array([ 1.6001065 ,  1.10948149, -0.71202591, -2.74771027, -1.19370993,\n",
      "       -4.55174849]) \n",
      " 32.095831632614136\n",
      "iteration: 4\n",
      "      fun: 2441.4511262105907\n",
      " hess_inv: array([[ 0.00959354, -0.00113019,  0.00033639, -0.00549472, -0.00359776,\n",
      "        -0.00593175],\n",
      "       [-0.00113019,  0.01228717, -0.0014459 ,  0.00172356, -0.00626019,\n",
      "        -0.00376387],\n",
      "       [ 0.00033639, -0.0014459 ,  0.00225306, -0.00366786, -0.00462848,\n",
      "        -0.00189513],\n",
      "       [-0.00549472,  0.00172356, -0.00366786,  0.00890842,  0.00661836,\n",
      "         0.00787699],\n",
      "       [-0.00359776, -0.00626019, -0.00462848,  0.00661836,  0.11323617,\n",
      "        -0.00650314],\n",
      "       [-0.00593175, -0.00376387, -0.00189513,  0.00787699, -0.00650314,\n",
      "         0.01425517]])\n",
      "      jac: array([ 3.23486328e-03,  8.23974609e-04, -2.13623047e-03, -1.22070312e-03,\n",
      "        6.10351562e-05,  8.23974609e-04])\n",
      "  message: 'Desired error not necessarily achieved due to precision loss.'\n",
      "     nfev: 417\n",
      "      nit: 27\n",
      "     njev: 52\n",
      "   status: 2\n",
      "  success: False\n",
      "        x: array([ 0.92892126,  0.9928542 , -1.63195103, -5.64185531, -9.77918746,\n",
      "       -7.22875676]) \n",
      " 27.13494372367859\n",
      "iteration: 5\n",
      "      fun: 3101.058018737761\n",
      " hess_inv: array([[ 7.69104930e-03,  2.46386120e-04,  1.19368260e-04,\n",
      "         1.35629158e-02,  1.43494439e-02,  1.48479457e-02],\n",
      "       [ 2.46386120e-04,  8.85584821e-03,  1.60020645e-04,\n",
      "        -1.14069365e-02, -1.50655810e-02, -1.34619408e-02],\n",
      "       [ 1.19368260e-04,  1.60020645e-04,  3.55693024e-04,\n",
      "        -3.70156034e-03, -4.78117681e-03, -4.20208760e-03],\n",
      "       [ 1.35629158e-02, -1.14069365e-02, -3.70156034e-03,\n",
      "         2.46495080e-01,  5.25661562e-01,  3.51292486e-01],\n",
      "       [ 1.43494439e-02, -1.50655810e-02, -4.78117681e-03,\n",
      "         5.25661562e-01,  1.28572909e+00,  8.47183499e-01],\n",
      "       [ 1.48479457e-02, -1.34619408e-02, -4.20208760e-03,\n",
      "         3.51292486e-01,  8.47183499e-01,  5.77206237e-01]])\n",
      "      jac: array([-1.89208984e-03,  1.01623535e-02, -2.34802246e-01,  6.10351562e-05,\n",
      "        0.00000000e+00,  3.05175781e-05])\n",
      "  message: 'Desired error not necessarily achieved due to precision loss.'\n",
      "     nfev: 529\n",
      "      nit: 33\n",
      "     njev: 66\n",
      "   status: 2\n",
      "  success: False\n",
      "        x: array([  1.27780032,   1.15429904,  -0.8129471 ,  -9.8285939 ,\n",
      "       -12.85236863, -12.32385396]) \n",
      " 33.333420753479004\n",
      "iteration: 6\n"
     ]
    }
   ],
   "source": [
    "%%time\n",
    "result = []\n",
    "draws = 250\n",
    "start = 0\n",
    "end = 50\n",
    "method = 'SMC'\n",
    "for i in range(start,end):\n",
    "    print('iteration: %i' %(i+1))\n",
    "    qmc = MMNL(X,Y_dgp[:,i],draws,3,method=method)\n",
    "    solution = qmc.solver()\n",
    "    result.append(solution)\n",
    "    if i%10==9:\n",
    "        pickle.dump( result, open( \"./resultaten/%s(%i)/%i-%i_%s(%i)_utsgdp_results.p\" %(method,draws,i-9,i,method,draws), \"wb\" ) )\n",
    "        result = []\n",
    "#     f = drive.CreateFile()\n",
    "#     f.SetContentFile(\"./resultaten/%i-%i_%s(%i)_results.p\" %(i,i+10,method,draws))\n",
    "#     f.Upload()"
   ]
  },
  {
   "cell_type": "code",
   "execution_count": 11,
   "metadata": {},
   "outputs": [],
   "source": [
    "pickle.dump( result, open( \"./resultaten/BQMC(8)/90_BQMC(8)_results.p\", \"wb\" ) )"
   ]
  },
  {
   "cell_type": "code",
   "execution_count": 10,
   "metadata": {},
   "outputs": [
    {
     "data": {
      "text/plain": [
       "(100, 6)"
      ]
     },
     "execution_count": 10,
     "metadata": {},
     "output_type": "execute_result"
    }
   ],
   "source": [
    "x_est = np.array(result)\n",
    "x_est.shape"
   ]
  },
  {
   "cell_type": "code",
   "execution_count": 11,
   "metadata": {},
   "outputs": [
    {
     "data": {
      "text/plain": [
       "array([ 4.58777441,  2.65487859, -7.12572568,  7.45172249,  2.22983804,\n",
       "        5.23629935])"
      ]
     },
     "execution_count": 11,
     "metadata": {},
     "output_type": "execute_result"
    }
   ],
   "source": [
    "np.mean(x_est, axis=0)"
   ]
  },
  {
   "cell_type": "code",
   "execution_count": null,
   "metadata": {},
   "outputs": [],
   "source": []
  }
 ],
 "metadata": {
  "kernelspec": {
   "display_name": "Python 3",
   "language": "python",
   "name": "python3"
  },
  "language_info": {
   "codemirror_mode": {
    "name": "ipython",
    "version": 3
   },
   "file_extension": ".py",
   "mimetype": "text/x-python",
   "name": "python",
   "nbconvert_exporter": "python",
   "pygments_lexer": "ipython3",
   "version": "3.7.1"
  }
 },
 "nbformat": 4,
 "nbformat_minor": 2
}
