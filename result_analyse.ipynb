{
 "cells": [
  {
   "cell_type": "code",
   "execution_count": 1,
   "metadata": {},
   "outputs": [],
   "source": [
    "import pickle\n",
    "import numpy as np\n",
    "import matplotlib.pyplot as plt\n",
    "import os\n",
    "import pandas as pd\n",
    "from mmnl import MMNL"
   ]
  },
  {
   "cell_type": "code",
   "execution_count": 2,
   "metadata": {},
   "outputs": [
    {
     "data": {
      "text/html": [
       "<div>\n",
       "<style scoped>\n",
       "    .dataframe tbody tr th:only-of-type {\n",
       "        vertical-align: middle;\n",
       "    }\n",
       "\n",
       "    .dataframe tbody tr th {\n",
       "        vertical-align: top;\n",
       "    }\n",
       "\n",
       "    .dataframe thead th {\n",
       "        text-align: right;\n",
       "    }\n",
       "</style>\n",
       "<table border=\"1\" class=\"dataframe\">\n",
       "  <thead>\n",
       "    <tr style=\"text-align: right;\">\n",
       "      <th></th>\n",
       "      <th>chosen</th>\n",
       "      <th>id</th>\n",
       "      <th>alt</th>\n",
       "      <th>display</th>\n",
       "      <th>feature</th>\n",
       "      <th>price</th>\n",
       "      <th>chid</th>\n",
       "    </tr>\n",
       "  </thead>\n",
       "  <tbody>\n",
       "    <tr>\n",
       "      <th>0</th>\n",
       "      <td>0</td>\n",
       "      <td>1</td>\n",
       "      <td>0</td>\n",
       "      <td>0</td>\n",
       "      <td>0</td>\n",
       "      <td>4.6</td>\n",
       "      <td>0</td>\n",
       "    </tr>\n",
       "    <tr>\n",
       "      <th>1</th>\n",
       "      <td>0</td>\n",
       "      <td>1</td>\n",
       "      <td>1</td>\n",
       "      <td>0</td>\n",
       "      <td>0</td>\n",
       "      <td>3.7</td>\n",
       "      <td>0</td>\n",
       "    </tr>\n",
       "    <tr>\n",
       "      <th>2</th>\n",
       "      <td>1</td>\n",
       "      <td>1</td>\n",
       "      <td>2</td>\n",
       "      <td>0</td>\n",
       "      <td>0</td>\n",
       "      <td>5.2</td>\n",
       "      <td>0</td>\n",
       "    </tr>\n",
       "    <tr>\n",
       "      <th>3</th>\n",
       "      <td>0</td>\n",
       "      <td>1</td>\n",
       "      <td>3</td>\n",
       "      <td>0</td>\n",
       "      <td>0</td>\n",
       "      <td>3.4</td>\n",
       "      <td>0</td>\n",
       "    </tr>\n",
       "    <tr>\n",
       "      <th>4</th>\n",
       "      <td>0</td>\n",
       "      <td>1</td>\n",
       "      <td>0</td>\n",
       "      <td>0</td>\n",
       "      <td>0</td>\n",
       "      <td>4.6</td>\n",
       "      <td>1</td>\n",
       "    </tr>\n",
       "    <tr>\n",
       "      <th>5</th>\n",
       "      <td>0</td>\n",
       "      <td>1</td>\n",
       "      <td>1</td>\n",
       "      <td>0</td>\n",
       "      <td>0</td>\n",
       "      <td>4.3</td>\n",
       "      <td>1</td>\n",
       "    </tr>\n",
       "    <tr>\n",
       "      <th>6</th>\n",
       "      <td>1</td>\n",
       "      <td>1</td>\n",
       "      <td>2</td>\n",
       "      <td>0</td>\n",
       "      <td>0</td>\n",
       "      <td>5.2</td>\n",
       "      <td>1</td>\n",
       "    </tr>\n",
       "    <tr>\n",
       "      <th>7</th>\n",
       "      <td>0</td>\n",
       "      <td>1</td>\n",
       "      <td>3</td>\n",
       "      <td>0</td>\n",
       "      <td>0</td>\n",
       "      <td>4.4</td>\n",
       "      <td>1</td>\n",
       "    </tr>\n",
       "    <tr>\n",
       "      <th>8</th>\n",
       "      <td>0</td>\n",
       "      <td>1</td>\n",
       "      <td>0</td>\n",
       "      <td>0</td>\n",
       "      <td>0</td>\n",
       "      <td>4.6</td>\n",
       "      <td>2</td>\n",
       "    </tr>\n",
       "    <tr>\n",
       "      <th>9</th>\n",
       "      <td>0</td>\n",
       "      <td>1</td>\n",
       "      <td>1</td>\n",
       "      <td>0</td>\n",
       "      <td>1</td>\n",
       "      <td>2.5</td>\n",
       "      <td>2</td>\n",
       "    </tr>\n",
       "  </tbody>\n",
       "</table>\n",
       "</div>"
      ],
      "text/plain": [
       "   chosen  id  alt  display  feature  price  chid\n",
       "0       0   1    0        0        0    4.6     0\n",
       "1       0   1    1        0        0    3.7     0\n",
       "2       1   1    2        0        0    5.2     0\n",
       "3       0   1    3        0        0    3.4     0\n",
       "4       0   1    0        0        0    4.6     1\n",
       "5       0   1    1        0        0    4.3     1\n",
       "6       1   1    2        0        0    5.2     1\n",
       "7       0   1    3        0        0    4.4     1\n",
       "8       0   1    0        0        0    4.6     2\n",
       "9       0   1    1        0        1    2.5     2"
      ]
     },
     "execution_count": 2,
     "metadata": {},
     "output_type": "execute_result"
    }
   ],
   "source": [
    "d = pd.read_csv('./data/catsup_trainformat.csv', delimiter=',')\n",
    "d.head(10)"
   ]
  },
  {
   "cell_type": "code",
   "execution_count": 3,
   "metadata": {},
   "outputs": [
    {
     "data": {
      "text/plain": [
       "(11192, 5)"
      ]
     },
     "execution_count": 3,
     "metadata": {},
     "output_type": "execute_result"
    }
   ],
   "source": [
    "X = d.values[:,1:-1]\n",
    "X.shape"
   ]
  },
  {
   "cell_type": "code",
   "execution_count": 4,
   "metadata": {},
   "outputs": [],
   "source": [
    "def summarize_data(model): \n",
    "    #model should be in method(draws) format\n",
    "    result = []\n",
    "    for file in os.listdir('.\\\\resultaten\\\\%s'%(model)):\n",
    "        if file.endswith('%s_probsgdp_results.p'%(model)):\n",
    "            infile = open(os.path.join('.\\\\resultaten\\\\%s'%(model), file), 'rb')\n",
    "            opt_list = pickle.load(infile)\n",
    "            [result.append(i) for i in opt_list]\n",
    "    \n",
    "#     pickle.dump( result, open( \"./resultaten/%s/mcdgp%s_utsdgp_all_results.p\" %(model,model), \"wb\" ) )\n",
    "    return result      \n",
    "        "
   ]
  },
  {
   "cell_type": "code",
   "execution_count": 5,
   "metadata": {},
   "outputs": [],
   "source": [
    "def probs(X,model,theta):\n",
    "    #performs matrix product to obtain the probability of every row\n",
    "    #X should be in format [display, feature, price]\n",
    "    method = model.split('(')[0]\n",
    "    R = int(model.split('(')[1][:-1])\n",
    "    print(R)\n",
    "    if method == 'QMC':\n",
    "        delta = QMC(300,3,R)\n",
    "    elif method == 'SMC':\n",
    "        delta = np.random.standard_normal((300,3,R))\n",
    "    \n",
    "    beta = theta[:3][:, None] + delta * np.abs(theta[3:][:, None])\n",
    "    try:\n",
    "        assert(X.shape == (11192, 5) and beta.shape == (300,3,R))\n",
    "        \n",
    "    except AssertionError:\n",
    "        raise AssertionError('Ga X ff in juiste format gooien. X: %s, beta: %s' %(X.shape,beta.shape))\n",
    "    beta_choice = np.zeros((3,11192,R))\n",
    "    for i in range(11192):\n",
    "        id = int(X[i,0])\n",
    "        beta_choice[:,i,:] = beta[id-1,:,:]\n",
    "        \n",
    "    P = np.zeros((11192,R))\n",
    "    for r in range(R):\n",
    "        P[:,r] = np.exp((X[:,2:]@ beta_choice[:,:,r])[:,0])\n",
    "        \n",
    "    try:\n",
    "        assert(P.shape == (11192,R) or P.shape == (R,11192))\n",
    "    except AssertionError:\n",
    "        raise AssertionError('Product van X en beta gaat niet goed, P.shape is nu %g' % (P.shape))\n",
    "#     try:\n",
    "#         p = P[0:4]\n",
    "#         check = p/np.sum(p)\n",
    "#         assert(np.sum(check) == 1. or np.sum(check) == 1)\n",
    "#     except AssertionError:\n",
    "#         raise AssertionError('Kansen van eerste aankoop sommeren niet naar 1 %f'%(np.sum(check)))\n",
    "\n",
    "    Y = np.zeros(11192,)\n",
    "    for i in range(0,11192, 4):\n",
    "        sum = np.sum(P[i:i+4,:],axis=0)\n",
    "        Y[i:i+4] = np.mean(P[i:i+4]/sum,axis=1)\n",
    "#         p = P[i:i+4]\n",
    "#         check = p/np.sum(p)\n",
    "#         print(np.sum(check))\n",
    "    return Y\n",
    "# Y_true2 = probs(X,'QMC(1000)',np.array([1.5,1,-1.1,0.8,0.1,1.2]))"
   ]
  },
  {
   "cell_type": "code",
   "execution_count": 6,
   "metadata": {},
   "outputs": [],
   "source": [
    "def get_results(model_data,method,Y_true=None):\n",
    "    #model data should be in list format containing OptimizeResult types\n",
    "    theta_true = np.array([1.5,  1.,  -1.1,  0.4,  0.1,  0.6])\n",
    "    results ={}\n",
    "    theta_est = np.zeros((6,))\n",
    "    mape = 0\n",
    "    D = len(model_data)\n",
    "    print(D)\n",
    "    for run in model_data:\n",
    "        theta_est[:3] += run.x[:3]/D\n",
    "        t = np.exp(run.x[3:])/D\n",
    "        theta_est[3:] += t\n",
    "#     P = probs(X,method,theta_est)\n",
    "#     mape_choice = 100*np.sum(np.abs((Y_true-P)/Y_true))/11192\n",
    "#     rmse_choice = np.sqrt(np.sum((Y_true-P)**2)/11192)\n",
    "    mape_par = 100*np.sum(np.abs((theta_true-theta_est)/theta_true))/6\n",
    "    rmse_par = np.sqrt(np.sum((theta_true-theta_est)**2)/6)\n",
    "\n",
    "    results = { 'method': method,\n",
    "                'theta': theta_est,\n",
    "#                 'choice': {'mape': mape_choice,\n",
    "#                            'rmse': rmse_choice,\n",
    "#                           },\n",
    "               'Parameter': {'mape': mape_par,\n",
    "                             'rmse': rmse_par\n",
    "                           }\n",
    "            }\n",
    "    return results"
   ]
  },
  {
   "cell_type": "markdown",
   "metadata": {},
   "source": [
    "Get true probabilities based on big QMC model"
   ]
  },
  {
   "cell_type": "code",
   "execution_count": 7,
   "metadata": {},
   "outputs": [
    {
     "data": {
      "text/plain": [
       "100"
      ]
     },
     "execution_count": 7,
     "metadata": {},
     "output_type": "execute_result"
    }
   ],
   "source": [
    "smc250 = summarize_data('SMC(250)')\n",
    "len(smc250)"
   ]
  },
  {
   "cell_type": "code",
   "execution_count": 12,
   "metadata": {},
   "outputs": [
    {
     "name": "stdout",
     "output_type": "stream",
     "text": [
      "100\n",
      "{'method': 'SMC(250)', 'theta': array([ 1.51899061,  1.02494363, -1.10843663,  0.13452628,  0.14354127,\n",
      "        0.04641227]), 'Parameter': {'mape': 34.45028109082569, 'rmse': 0.25162323499685285}}\n"
     ]
    }
   ],
   "source": [
    "ressmc250 = get_results(smc250,'SMC(250)')\n",
    "print(ressmc250)"
   ]
  },
  {
   "cell_type": "code",
   "execution_count": 7,
   "metadata": {},
   "outputs": [
    {
     "data": {
      "text/plain": [
       "30"
      ]
     },
     "execution_count": 7,
     "metadata": {},
     "output_type": "execute_result"
    }
   ],
   "source": [
    "smc250_probs = summarize_data('SMC(250)')\n",
    "len(smc250_probs)"
   ]
  },
  {
   "cell_type": "code",
   "execution_count": 8,
   "metadata": {},
   "outputs": [
    {
     "name": "stdout",
     "output_type": "stream",
     "text": [
      "30\n"
     ]
    },
    {
     "data": {
      "text/plain": [
       "{'method': 'SMC(250)',\n",
       " 'theta': array([ 1.54217893,  0.99617625, -1.16567569,  0.07991319,  0.10478861,\n",
       "         0.04890668]),\n",
       " 'Parameter': {'mape': 30.970670195336286, 'rmse': 0.26213524553002177}}"
      ]
     },
     "execution_count": 8,
     "metadata": {},
     "output_type": "execute_result"
    }
   ],
   "source": [
    "get_results(smc250_probs,'SMC(250)')"
   ]
  },
  {
   "cell_type": "code",
   "execution_count": null,
   "metadata": {},
   "outputs": [],
   "source": []
  }
 ],
 "metadata": {
  "kernelspec": {
   "display_name": "Python 3",
   "language": "python",
   "name": "python3"
  },
  "language_info": {
   "codemirror_mode": {
    "name": "ipython",
    "version": 3
   },
   "file_extension": ".py",
   "mimetype": "text/x-python",
   "name": "python",
   "nbconvert_exporter": "python",
   "pygments_lexer": "ipython3",
   "version": "3.7.1"
  }
 },
 "nbformat": 4,
 "nbformat_minor": 2
}
