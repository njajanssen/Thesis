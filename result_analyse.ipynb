{
 "cells": [
  {
   "cell_type": "code",
   "execution_count": 1,
   "metadata": {},
   "outputs": [],
   "source": [
    "import pickle\n",
    "import numpy as np\n",
    "import matplotlib.pyplot as plt\n",
    "import os\n",
    "import pandas as pd\n",
    "from mmnl import MMNL"
   ]
  },
  {
   "cell_type": "code",
   "execution_count": 2,
   "metadata": {},
   "outputs": [],
   "source": [
    "def load_data(path):\n",
    "    dat = np.load(path)\n",
    "    X = dat[:, :-1]\n",
    "    Y = np.reshape(dat[:, -1], (-1, 1))\n",
    "    return X, Y\n",
    "X, Y = load_data('data/data.npy')"
   ]
  },
  {
   "cell_type": "code",
   "execution_count": 5,
   "metadata": {},
   "outputs": [
    {
     "name": "stdout",
     "output_type": "stream",
     "text": [
      " final_simplex: (array([[ 1.43898751,  1.03571084, -1.05885721,  0.78078545,  0.25709845,\n",
      "         1.0874467 ],\n",
      "       [ 1.4389813 ,  1.03570542, -1.05885077,  0.78078068,  0.257171  ,\n",
      "         1.08744476],\n",
      "       [ 1.43897484,  1.03570558, -1.05885722,  0.78078975,  0.25718261,\n",
      "         1.08744665],\n",
      "       [ 1.43897646,  1.03570711, -1.05885908,  0.78078945,  0.25714921,\n",
      "         1.08744694],\n",
      "       [ 1.43898082,  1.03570874, -1.05885817,  0.78078311,  0.25701317,\n",
      "         1.08744504],\n",
      "       [ 1.43898804,  1.03570939, -1.05885308,  0.78079608,  0.2570333 ,\n",
      "         1.08744844],\n",
      "       [ 1.43897495,  1.03570647, -1.05885891,  0.78078701,  0.2571342 ,\n",
      "         1.08745045]]), array([2815.25552749, 2815.25552749, 2815.25552749, 2815.25552749,\n",
      "       2815.25552749, 2815.25552749, 2815.2555275 ]))\n",
      "           fun: 2815.255527487398\n",
      "       message: 'Optimization terminated successfully.'\n",
      "          nfev: 943\n",
      "           nit: 607\n",
      "        status: 0\n",
      "       success: True\n",
      "             x: array([ 1.43898751,  1.03571084, -1.05885721,  0.78078545,  0.25709845,\n",
      "        1.0874467 ])\n"
     ]
    },
    {
     "data": {
      "text/plain": [
       " final_simplex: (array([[ 1.43898751,  1.03571084, -1.05885721,  0.78078545,  0.25709845,\n",
       "         1.0874467 ],\n",
       "       [ 1.4389813 ,  1.03570542, -1.05885077,  0.78078068,  0.257171  ,\n",
       "         1.08744476],\n",
       "       [ 1.43897484,  1.03570558, -1.05885722,  0.78078975,  0.25718261,\n",
       "         1.08744665],\n",
       "       [ 1.43897646,  1.03570711, -1.05885908,  0.78078945,  0.25714921,\n",
       "         1.08744694],\n",
       "       [ 1.43898082,  1.03570874, -1.05885817,  0.78078311,  0.25701317,\n",
       "         1.08744504],\n",
       "       [ 1.43898804,  1.03570939, -1.05885308,  0.78079608,  0.2570333 ,\n",
       "         1.08744844],\n",
       "       [ 1.43897495,  1.03570647, -1.05885891,  0.78078701,  0.2571342 ,\n",
       "         1.08745045]]), array([2815.25552749, 2815.25552749, 2815.25552749, 2815.25552749,\n",
       "       2815.25552749, 2815.25552749, 2815.2555275 ]))\n",
       "           fun: 2815.255527487398\n",
       "       message: 'Optimization terminated successfully.'\n",
       "          nfev: 943\n",
       "           nit: 607\n",
       "        status: 0\n",
       "       success: True\n",
       "             x: array([ 1.43898751,  1.03571084, -1.05885721,  0.78078545,  0.25709845,\n",
       "        1.0874467 ])"
      ]
     },
     "execution_count": 5,
     "metadata": {},
     "output_type": "execute_result"
    }
   ],
   "source": [
    "qmc = MMNL(X,Y,75,3,method='QMC')\n",
    "qmc.solver()"
   ]
  },
  {
   "cell_type": "code",
   "execution_count": 24,
   "metadata": {},
   "outputs": [
    {
     "data": {
      "text/html": [
       "<div>\n",
       "<style scoped>\n",
       "    .dataframe tbody tr th:only-of-type {\n",
       "        vertical-align: middle;\n",
       "    }\n",
       "\n",
       "    .dataframe tbody tr th {\n",
       "        vertical-align: top;\n",
       "    }\n",
       "\n",
       "    .dataframe thead th {\n",
       "        text-align: right;\n",
       "    }\n",
       "</style>\n",
       "<table border=\"1\" class=\"dataframe\">\n",
       "  <thead>\n",
       "    <tr style=\"text-align: right;\">\n",
       "      <th></th>\n",
       "      <th>chosen</th>\n",
       "      <th>id</th>\n",
       "      <th>alt</th>\n",
       "      <th>display</th>\n",
       "      <th>feature</th>\n",
       "      <th>price</th>\n",
       "      <th>chid</th>\n",
       "    </tr>\n",
       "  </thead>\n",
       "  <tbody>\n",
       "    <tr>\n",
       "      <th>0</th>\n",
       "      <td>0</td>\n",
       "      <td>1</td>\n",
       "      <td>0</td>\n",
       "      <td>0</td>\n",
       "      <td>0</td>\n",
       "      <td>4.6</td>\n",
       "      <td>0</td>\n",
       "    </tr>\n",
       "    <tr>\n",
       "      <th>1</th>\n",
       "      <td>0</td>\n",
       "      <td>1</td>\n",
       "      <td>1</td>\n",
       "      <td>0</td>\n",
       "      <td>0</td>\n",
       "      <td>3.7</td>\n",
       "      <td>0</td>\n",
       "    </tr>\n",
       "    <tr>\n",
       "      <th>2</th>\n",
       "      <td>1</td>\n",
       "      <td>1</td>\n",
       "      <td>2</td>\n",
       "      <td>0</td>\n",
       "      <td>0</td>\n",
       "      <td>5.2</td>\n",
       "      <td>0</td>\n",
       "    </tr>\n",
       "    <tr>\n",
       "      <th>3</th>\n",
       "      <td>0</td>\n",
       "      <td>1</td>\n",
       "      <td>3</td>\n",
       "      <td>0</td>\n",
       "      <td>0</td>\n",
       "      <td>3.4</td>\n",
       "      <td>0</td>\n",
       "    </tr>\n",
       "    <tr>\n",
       "      <th>4</th>\n",
       "      <td>0</td>\n",
       "      <td>1</td>\n",
       "      <td>0</td>\n",
       "      <td>0</td>\n",
       "      <td>0</td>\n",
       "      <td>4.6</td>\n",
       "      <td>1</td>\n",
       "    </tr>\n",
       "    <tr>\n",
       "      <th>5</th>\n",
       "      <td>0</td>\n",
       "      <td>1</td>\n",
       "      <td>1</td>\n",
       "      <td>0</td>\n",
       "      <td>0</td>\n",
       "      <td>4.3</td>\n",
       "      <td>1</td>\n",
       "    </tr>\n",
       "    <tr>\n",
       "      <th>6</th>\n",
       "      <td>1</td>\n",
       "      <td>1</td>\n",
       "      <td>2</td>\n",
       "      <td>0</td>\n",
       "      <td>0</td>\n",
       "      <td>5.2</td>\n",
       "      <td>1</td>\n",
       "    </tr>\n",
       "    <tr>\n",
       "      <th>7</th>\n",
       "      <td>0</td>\n",
       "      <td>1</td>\n",
       "      <td>3</td>\n",
       "      <td>0</td>\n",
       "      <td>0</td>\n",
       "      <td>4.4</td>\n",
       "      <td>1</td>\n",
       "    </tr>\n",
       "    <tr>\n",
       "      <th>8</th>\n",
       "      <td>0</td>\n",
       "      <td>1</td>\n",
       "      <td>0</td>\n",
       "      <td>0</td>\n",
       "      <td>0</td>\n",
       "      <td>4.6</td>\n",
       "      <td>2</td>\n",
       "    </tr>\n",
       "    <tr>\n",
       "      <th>9</th>\n",
       "      <td>0</td>\n",
       "      <td>1</td>\n",
       "      <td>1</td>\n",
       "      <td>0</td>\n",
       "      <td>1</td>\n",
       "      <td>2.5</td>\n",
       "      <td>2</td>\n",
       "    </tr>\n",
       "  </tbody>\n",
       "</table>\n",
       "</div>"
      ],
      "text/plain": [
       "   chosen  id  alt  display  feature  price  chid\n",
       "0       0   1    0        0        0    4.6     0\n",
       "1       0   1    1        0        0    3.7     0\n",
       "2       1   1    2        0        0    5.2     0\n",
       "3       0   1    3        0        0    3.4     0\n",
       "4       0   1    0        0        0    4.6     1\n",
       "5       0   1    1        0        0    4.3     1\n",
       "6       1   1    2        0        0    5.2     1\n",
       "7       0   1    3        0        0    4.4     1\n",
       "8       0   1    0        0        0    4.6     2\n",
       "9       0   1    1        0        1    2.5     2"
      ]
     },
     "execution_count": 24,
     "metadata": {},
     "output_type": "execute_result"
    }
   ],
   "source": [
    "d = pd.read_csv('./data/catsup_trainformat.csv', delimiter=',')\n",
    "d.head(10)"
   ]
  },
  {
   "cell_type": "code",
   "execution_count": 25,
   "metadata": {},
   "outputs": [
    {
     "data": {
      "text/plain": [
       "(11192, 5)"
      ]
     },
     "execution_count": 25,
     "metadata": {},
     "output_type": "execute_result"
    }
   ],
   "source": [
    "X = d.values[:,1:-1]\n",
    "X.shape"
   ]
  },
  {
   "cell_type": "code",
   "execution_count": 34,
   "metadata": {},
   "outputs": [],
   "source": [
    "def summarize_data(model): \n",
    "    #model should be in method(draws) format\n",
    "    result = []\n",
    "    for file in os.listdir('.\\\\resultaten\\\\%s'%(model)):\n",
    "        if file.endswith('%s_results2.p'%(model)):\n",
    "            infile = open(os.path.join('.\\\\resultaten\\\\%s'%(model), file), 'rb')\n",
    "            opt_list = pickle.load(infile)\n",
    "            [result.append(i) for i in opt_list]\n",
    "    \n",
    "    pickle.dump( result, open( \"./resultaten/%s/%s_all_results.p\" %(model,model), \"wb\" ) )\n",
    "    return result      \n",
    "        "
   ]
  },
  {
   "cell_type": "code",
   "execution_count": 38,
   "metadata": {},
   "outputs": [],
   "source": [
    "def probs(X,model,theta):\n",
    "    #performs matrix product to obtain the probability of every row\n",
    "    #X should be in format [display, feature, price]\n",
    "    method = model.split('(')[0]\n",
    "    R = int(model.split('(')[1][:-1])\n",
    "    print(R)\n",
    "    if method == 'QMC':\n",
    "        delta = QMC(300,3,R)\n",
    "    elif method == 'SMC':\n",
    "        delta = np.random.randn(300,3,R)\n",
    "    \n",
    "    beta = theta[:3][:, None] + delta * np.abs(theta[3:][:, None])\n",
    "    try:\n",
    "        assert(X.shape == (11192, 5) and beta.shape == (300,3,R))\n",
    "        \n",
    "    except AssertionError:\n",
    "        raise AssertionError('Ga X ff in juiste format gooien. X: %s, beta: %s' %(X.shape,beta.shape))\n",
    "    beta_choice = np.zeros((3,11192,R))\n",
    "    for i in range(11192):\n",
    "        id = int(X[i,0])\n",
    "        beta_choice[:,i,:] = beta[id-1,:,:]\n",
    "        \n",
    "    P = np.zeros((11192,R))\n",
    "    for r in range(R):\n",
    "        P[:,r] = np.exp((X[:,2:]@ beta_choice[:,:,r])[:,0])\n",
    "        \n",
    "    try:\n",
    "        assert(P.shape == (11192,R) or P.shape == (R,11192))\n",
    "    except AssertionError:\n",
    "        raise AssertionError('Product van X en beta gaat niet goed, P.shape is nu %g' % (P.shape))\n",
    "#     try:\n",
    "#         p = P[0:4]\n",
    "#         check = p/np.sum(p)\n",
    "#         assert(np.sum(check) == 1. or np.sum(check) == 1)\n",
    "#     except AssertionError:\n",
    "#         raise AssertionError('Kansen van eerste aankoop sommeren niet naar 1 %f'%(np.sum(check)))\n",
    "\n",
    "    Y = np.zeros(11192,)\n",
    "    for i in range(0,11192, 4):\n",
    "        sum = np.sum(P[i:i+4,:],axis=0)\n",
    "        Y[i:i+4] = np.mean(P[i:i+4]/sum,axis=1)\n",
    "#         p = P[i:i+4]\n",
    "#         check = p/np.sum(p)\n",
    "#         print(np.sum(check))\n",
    "    return Y\n",
    "# Y_true2 = probs(X,'QMC(1000)',np.array([1.5,1,-1.1,0.8,0.1,1.2]))"
   ]
  },
  {
   "cell_type": "code",
   "execution_count": 31,
   "metadata": {},
   "outputs": [],
   "source": [
    "pickle.dump( Y_true2, open( \"./resultaten/Y_true2_QMC(1000).p\", \"wb\" ) )\n"
   ]
  },
  {
   "cell_type": "code",
   "execution_count": 6,
   "metadata": {},
   "outputs": [],
   "source": [
    "infile = open('./resultaten/QMC(75)/QMC(75)_all_results.p', 'rb')\n",
    "qmc75 = pickle.load(infile)"
   ]
  },
  {
   "cell_type": "code",
   "execution_count": 7,
   "metadata": {},
   "outputs": [
    {
     "name": "stdout",
     "output_type": "stream",
     "text": [
      "100\n"
     ]
    }
   ],
   "source": [
    "print(len(qmc75))"
   ]
  },
  {
   "cell_type": "code",
   "execution_count": 32,
   "metadata": {},
   "outputs": [],
   "source": [
    "theta_true = np.array([1.5,1,-1.1,0.8,0.1,1.2])"
   ]
  },
  {
   "cell_type": "code",
   "execution_count": 33,
   "metadata": {},
   "outputs": [],
   "source": [
    "def get_results(model_data,method,Y_true):\n",
    "    #model data should be in list format containing OptimizeResult types\n",
    "    theta_true = np.array([1.5,1,-1.1,0.8,0.1,1.2])\n",
    "    results ={}\n",
    "    theta_est = np.zeros((6,))\n",
    "    mape = 0\n",
    "    for run in model_data:\n",
    "        theta_est += run.x/len(model_data)\n",
    "#     P = probs(X,method,theta_est)\n",
    "#     mape_choice = 100*np.sum(np.abs((Y_true-P)/Y_true))/11192\n",
    "#     rmse_choice = np.sqrt(np.sum((Y_true-P)**2)/11192)\n",
    "    mape_par = 100*np.sum(np.abs((theta_true-theta_est)/theta_true))/6\n",
    "    rmse_par = np.sqrt(np.sum((theta_true-theta_est)**2)/6)\n",
    "\n",
    "    results = { 'method': method,\n",
    "                'theta': theta_est,\n",
    "#                 'choice': {'mape': mape_choice,\n",
    "#                            'rmse': rmse_choice,\n",
    "#                           },\n",
    "               'Parameter': {'mape': mape_par,\n",
    "                             'rmse': rmse_par\n",
    "                           }\n",
    "            }\n",
    "    return results"
   ]
  },
  {
   "cell_type": "markdown",
   "metadata": {},
   "source": [
    "Get true probabilities based on big QMC model"
   ]
  },
  {
   "cell_type": "code",
   "execution_count": 35,
   "metadata": {},
   "outputs": [],
   "source": [
    "qmc25 = summarize_data('QMC(25)')"
   ]
  },
  {
   "cell_type": "code",
   "execution_count": 37,
   "metadata": {},
   "outputs": [
    {
     "name": "stdout",
     "output_type": "stream",
     "text": [
      "{'method': 'QMC(25)', 'theta': array([ 0.96361293,  0.8029465 , -1.11864207,  0.70108456,  0.46697882,\n",
      "        0.03907107]), 'Parameter': {'mape': 88.8744240008519, 'rmse': 0.550621223547447}}\n"
     ]
    }
   ],
   "source": [
    "len(qmc25)\n",
    "resqmc25 = get_results(qmc25,'QMC(25)',Y_true)\n",
    "print(resqmc25)"
   ]
  },
  {
   "cell_type": "code",
   "execution_count": 14,
   "metadata": {},
   "outputs": [
    {
     "data": {
      "text/plain": [
       "100"
      ]
     },
     "execution_count": 14,
     "metadata": {},
     "output_type": "execute_result"
    }
   ],
   "source": [
    "infile = open('./resultaten/SMC(500)/0-100_SMC(500)_results.p', 'rb')\n",
    "smc500 = pickle.load(infile)\n",
    "len(smc500)"
   ]
  },
  {
   "cell_type": "code",
   "execution_count": 15,
   "metadata": {},
   "outputs": [
    {
     "name": "stdout",
     "output_type": "stream",
     "text": [
      "500\n"
     ]
    },
    {
     "data": {
      "text/plain": [
       "{'method': 'SMC(500)',\n",
       " 'theta': array([ 1.26975361,  0.96992687, -1.01877069,  0.17900136,  0.00968623,\n",
       "         0.07404637]),\n",
       " 'choice': {'mape': 25.517837754510417, 'rmse': 0.05342257395388834},\n",
       " 'Parameter': {'mape': 47.91827122643141, 'rmse': 0.5357367916390605}}"
      ]
     },
     "execution_count": 15,
     "metadata": {},
     "output_type": "execute_result"
    }
   ],
   "source": [
    "ressmc500 = get_results(smc500, 'SMC(500)', Y_true)\n",
    "ressmc500"
   ]
  },
  {
   "cell_type": "code",
   "execution_count": 16,
   "metadata": {},
   "outputs": [
    {
     "data": {
      "text/plain": [
       "100"
      ]
     },
     "execution_count": 16,
     "metadata": {},
     "output_type": "execute_result"
    }
   ],
   "source": [
    "smc1000 = summarize_data('SMC(1000)')\n",
    "len(smc1000)"
   ]
  },
  {
   "cell_type": "code",
   "execution_count": 21,
   "metadata": {},
   "outputs": [],
   "source": [
    "ressmc1000 = get_results(summarize_data('SMC(1000)'), 'SMC(1000)', Y_true)"
   ]
  },
  {
   "cell_type": "code",
   "execution_count": 20,
   "metadata": {},
   "outputs": [
    {
     "data": {
      "text/plain": [
       "{'method': 'SMC(1000)',\n",
       " 'theta': array([ 1.48092315,  0.81189818, -1.09673566,  0.03284022,  0.16863493,\n",
       "         0.08168019]),\n",
       " 'Parameter': {'mape': 46.35032459069284, 'rmse': 0.5597083997209648}}"
      ]
     },
     "execution_count": 20,
     "metadata": {},
     "output_type": "execute_result"
    }
   ],
   "source": [
    "ressmc1000"
   ]
  },
  {
   "cell_type": "code",
   "execution_count": 19,
   "metadata": {},
   "outputs": [
    {
     "data": {
      "text/plain": [
       "210"
      ]
     },
     "execution_count": 19,
     "metadata": {},
     "output_type": "execute_result"
    }
   ],
   "source": [
    "len(smc1000)"
   ]
  },
  {
   "cell_type": "code",
   "execution_count": 13,
   "metadata": {},
   "outputs": [
    {
     "data": {
      "text/plain": [
       "256"
      ]
     },
     "execution_count": 13,
     "metadata": {},
     "output_type": "execute_result"
    }
   ],
   "source": [
    "# bqmc8 = summarize_data('BQMC(8)')\n",
    "len(bqmc8)"
   ]
  },
  {
   "cell_type": "code",
   "execution_count": 17,
   "metadata": {},
   "outputs": [
    {
     "data": {
      "text/plain": [
       "{'method': 'BQMC(8)',\n",
       " 'theta': array([ 0.93072305,  0.5005806 , -1.19101155,  0.61505522,  0.5443808 ,\n",
       "         0.20131094]),\n",
       " 'Parameter': {'mape': 107.81508341898723, 'rmse': 0.5493690005579851}}"
      ]
     },
     "execution_count": 17,
     "metadata": {},
     "output_type": "execute_result"
    }
   ],
   "source": [
    "resbqmc8 = get_results(bqmc8,'BQMC(8)', Y_true)\n",
    "resbqmc8"
   ]
  },
  {
   "cell_type": "code",
   "execution_count": 11,
   "metadata": {},
   "outputs": [
    {
     "name": "stdout",
     "output_type": "stream",
     "text": [
      "100 0-100_SMC(500)_results.p\n"
     ]
    }
   ],
   "source": [
    "model = 'SMC(500)'\n",
    "for file in os.listdir('.\\\\resultaten\\\\%s'%(model)):\n",
    "    if file.endswith('%s_results.p'%(model)):\n",
    "        infile = open(os.path.join('.\\\\resultaten\\\\%s'%(model), file), 'rb')\n",
    "        opt_list = pickle.load(infile)\n",
    "        print(len(opt_list),file)"
   ]
  },
  {
   "cell_type": "code",
   "execution_count": null,
   "metadata": {},
   "outputs": [],
   "source": []
  }
 ],
 "metadata": {
  "kernelspec": {
   "display_name": "Python 3",
   "language": "python",
   "name": "python3"
  },
  "language_info": {
   "codemirror_mode": {
    "name": "ipython",
    "version": 3
   },
   "file_extension": ".py",
   "mimetype": "text/x-python",
   "name": "python",
   "nbconvert_exporter": "python",
   "pygments_lexer": "ipython3",
   "version": "3.7.1"
  }
 },
 "nbformat": 4,
 "nbformat_minor": 2
}
