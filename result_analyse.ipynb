{
 "cells": [
  {
   "cell_type": "code",
   "execution_count": 1,
   "metadata": {},
   "outputs": [],
   "source": [
    "import pickle\n",
    "import numpy as np\n",
    "import matplotlib.pyplot as plt\n",
    "import os\n",
    "import pandas as pd\n",
    "from mmnl import MMNL"
   ]
  },
  {
   "cell_type": "code",
   "execution_count": 3,
   "metadata": {},
   "outputs": [
    {
     "data": {
      "text/html": [
       "<div>\n",
       "<style scoped>\n",
       "    .dataframe tbody tr th:only-of-type {\n",
       "        vertical-align: middle;\n",
       "    }\n",
       "\n",
       "    .dataframe tbody tr th {\n",
       "        vertical-align: top;\n",
       "    }\n",
       "\n",
       "    .dataframe thead th {\n",
       "        text-align: right;\n",
       "    }\n",
       "</style>\n",
       "<table border=\"1\" class=\"dataframe\">\n",
       "  <thead>\n",
       "    <tr style=\"text-align: right;\">\n",
       "      <th></th>\n",
       "      <th>chosen</th>\n",
       "      <th>id</th>\n",
       "      <th>alt</th>\n",
       "      <th>display</th>\n",
       "      <th>feature</th>\n",
       "      <th>price</th>\n",
       "      <th>chid</th>\n",
       "    </tr>\n",
       "  </thead>\n",
       "  <tbody>\n",
       "    <tr>\n",
       "      <th>0</th>\n",
       "      <td>0</td>\n",
       "      <td>1</td>\n",
       "      <td>0</td>\n",
       "      <td>0</td>\n",
       "      <td>0</td>\n",
       "      <td>4.6</td>\n",
       "      <td>0</td>\n",
       "    </tr>\n",
       "    <tr>\n",
       "      <th>1</th>\n",
       "      <td>0</td>\n",
       "      <td>1</td>\n",
       "      <td>1</td>\n",
       "      <td>0</td>\n",
       "      <td>0</td>\n",
       "      <td>3.7</td>\n",
       "      <td>0</td>\n",
       "    </tr>\n",
       "    <tr>\n",
       "      <th>2</th>\n",
       "      <td>1</td>\n",
       "      <td>1</td>\n",
       "      <td>2</td>\n",
       "      <td>0</td>\n",
       "      <td>0</td>\n",
       "      <td>5.2</td>\n",
       "      <td>0</td>\n",
       "    </tr>\n",
       "    <tr>\n",
       "      <th>3</th>\n",
       "      <td>0</td>\n",
       "      <td>1</td>\n",
       "      <td>3</td>\n",
       "      <td>0</td>\n",
       "      <td>0</td>\n",
       "      <td>3.4</td>\n",
       "      <td>0</td>\n",
       "    </tr>\n",
       "    <tr>\n",
       "      <th>4</th>\n",
       "      <td>0</td>\n",
       "      <td>1</td>\n",
       "      <td>0</td>\n",
       "      <td>0</td>\n",
       "      <td>0</td>\n",
       "      <td>4.6</td>\n",
       "      <td>1</td>\n",
       "    </tr>\n",
       "    <tr>\n",
       "      <th>5</th>\n",
       "      <td>0</td>\n",
       "      <td>1</td>\n",
       "      <td>1</td>\n",
       "      <td>0</td>\n",
       "      <td>0</td>\n",
       "      <td>4.3</td>\n",
       "      <td>1</td>\n",
       "    </tr>\n",
       "    <tr>\n",
       "      <th>6</th>\n",
       "      <td>1</td>\n",
       "      <td>1</td>\n",
       "      <td>2</td>\n",
       "      <td>0</td>\n",
       "      <td>0</td>\n",
       "      <td>5.2</td>\n",
       "      <td>1</td>\n",
       "    </tr>\n",
       "    <tr>\n",
       "      <th>7</th>\n",
       "      <td>0</td>\n",
       "      <td>1</td>\n",
       "      <td>3</td>\n",
       "      <td>0</td>\n",
       "      <td>0</td>\n",
       "      <td>4.4</td>\n",
       "      <td>1</td>\n",
       "    </tr>\n",
       "    <tr>\n",
       "      <th>8</th>\n",
       "      <td>0</td>\n",
       "      <td>1</td>\n",
       "      <td>0</td>\n",
       "      <td>0</td>\n",
       "      <td>0</td>\n",
       "      <td>4.6</td>\n",
       "      <td>2</td>\n",
       "    </tr>\n",
       "    <tr>\n",
       "      <th>9</th>\n",
       "      <td>0</td>\n",
       "      <td>1</td>\n",
       "      <td>1</td>\n",
       "      <td>0</td>\n",
       "      <td>1</td>\n",
       "      <td>2.5</td>\n",
       "      <td>2</td>\n",
       "    </tr>\n",
       "  </tbody>\n",
       "</table>\n",
       "</div>"
      ],
      "text/plain": [
       "   chosen  id  alt  display  feature  price  chid\n",
       "0       0   1    0        0        0    4.6     0\n",
       "1       0   1    1        0        0    3.7     0\n",
       "2       1   1    2        0        0    5.2     0\n",
       "3       0   1    3        0        0    3.4     0\n",
       "4       0   1    0        0        0    4.6     1\n",
       "5       0   1    1        0        0    4.3     1\n",
       "6       1   1    2        0        0    5.2     1\n",
       "7       0   1    3        0        0    4.4     1\n",
       "8       0   1    0        0        0    4.6     2\n",
       "9       0   1    1        0        1    2.5     2"
      ]
     },
     "execution_count": 3,
     "metadata": {},
     "output_type": "execute_result"
    }
   ],
   "source": [
    "d = pd.read_csv('./data/catsup_trainformat.csv', delimiter=',')\n",
    "d.head(10)"
   ]
  },
  {
   "cell_type": "code",
   "execution_count": 4,
   "metadata": {},
   "outputs": [
    {
     "data": {
      "text/plain": [
       "(11192, 5)"
      ]
     },
     "execution_count": 4,
     "metadata": {},
     "output_type": "execute_result"
    }
   ],
   "source": [
    "X = d.values[:,1:-1]\n",
    "X.shape"
   ]
  },
  {
   "cell_type": "code",
   "execution_count": 5,
   "metadata": {},
   "outputs": [],
   "source": [
    "def summarize_data(model): \n",
    "    #model should be in method(draws) format\n",
    "    result = []\n",
    "    for file in os.listdir('.\\\\resultaten\\\\%s'%(model)):\n",
    "        if file.endswith('%s_utsgdp_results.p'%(model)):\n",
    "            infile = open(os.path.join('.\\\\resultaten\\\\%s'%(model), file), 'rb')\n",
    "            opt_list = pickle.load(infile)\n",
    "            [result.append(i) for i in opt_list]\n",
    "    \n",
    "    pickle.dump( result, open( \"./resultaten/%s/mcdgp%s_utsdgp_all_results.p\" %(model,model), \"wb\" ) )\n",
    "    return result      \n",
    "        "
   ]
  },
  {
   "cell_type": "code",
   "execution_count": 6,
   "metadata": {},
   "outputs": [],
   "source": [
    "def probs(X,model,theta):\n",
    "    #performs matrix product to obtain the probability of every row\n",
    "    #X should be in format [display, feature, price]\n",
    "    method = model.split('(')[0]\n",
    "    R = int(model.split('(')[1][:-1])\n",
    "    print(R)\n",
    "    if method == 'QMC':\n",
    "        delta = QMC(300,3,R)\n",
    "    elif method == 'SMC':\n",
    "        delta = np.random.standard_normal((300,3,R))\n",
    "    \n",
    "    beta = theta[:3][:, None] + delta * np.abs(theta[3:][:, None])\n",
    "    try:\n",
    "        assert(X.shape == (11192, 5) and beta.shape == (300,3,R))\n",
    "        \n",
    "    except AssertionError:\n",
    "        raise AssertionError('Ga X ff in juiste format gooien. X: %s, beta: %s' %(X.shape,beta.shape))\n",
    "    beta_choice = np.zeros((3,11192,R))\n",
    "    for i in range(11192):\n",
    "        id = int(X[i,0])\n",
    "        beta_choice[:,i,:] = beta[id-1,:,:]\n",
    "        \n",
    "    P = np.zeros((11192,R))\n",
    "    for r in range(R):\n",
    "        P[:,r] = np.exp((X[:,2:]@ beta_choice[:,:,r])[:,0])\n",
    "        \n",
    "    try:\n",
    "        assert(P.shape == (11192,R) or P.shape == (R,11192))\n",
    "    except AssertionError:\n",
    "        raise AssertionError('Product van X en beta gaat niet goed, P.shape is nu %g' % (P.shape))\n",
    "#     try:\n",
    "#         p = P[0:4]\n",
    "#         check = p/np.sum(p)\n",
    "#         assert(np.sum(check) == 1. or np.sum(check) == 1)\n",
    "#     except AssertionError:\n",
    "#         raise AssertionError('Kansen van eerste aankoop sommeren niet naar 1 %f'%(np.sum(check)))\n",
    "\n",
    "    Y = np.zeros(11192,)\n",
    "    for i in range(0,11192, 4):\n",
    "        sum = np.sum(P[i:i+4,:],axis=0)\n",
    "        Y[i:i+4] = np.mean(P[i:i+4]/sum,axis=1)\n",
    "#         p = P[i:i+4]\n",
    "#         check = p/np.sum(p)\n",
    "#         print(np.sum(check))\n",
    "    return Y\n",
    "# Y_true2 = probs(X,'QMC(1000)',np.array([1.5,1,-1.1,0.8,0.1,1.2]))"
   ]
  },
  {
   "cell_type": "code",
   "execution_count": 30,
   "metadata": {},
   "outputs": [],
   "source": [
    "def get_results(model_data,method,Y_true=None):\n",
    "    #model data should be in list format containing OptimizeResult types\n",
    "    theta_true = np.array([1.5,  1.,  -1.1,  0.4,  0.1,  0.6])\n",
    "    results ={}\n",
    "    theta_est = np.zeros((6,))\n",
    "    mape = 0\n",
    "    D = len(model_data)\n",
    "    print(D)\n",
    "    for run in model_data:\n",
    "        theta_est[:3] += run.x[:3]/D\n",
    "        t = np.exp(run.x[3:])/D\n",
    "        if np.any(np.isinf(t)):\n",
    "            print(run)\n",
    "        else:\n",
    "            theta_est[3:] += t\n",
    "#     P = probs(X,method,theta_est)\n",
    "#     mape_choice = 100*np.sum(np.abs((Y_true-P)/Y_true))/11192\n",
    "#     rmse_choice = np.sqrt(np.sum((Y_true-P)**2)/11192)\n",
    "    mape_par = 100*np.sum(np.abs((theta_true-theta_est)/theta_true))/6\n",
    "    rmse_par = np.sqrt(np.sum((theta_true-theta_est)**2)/6)\n",
    "\n",
    "    results = { 'method': method,\n",
    "                'theta': theta_est,\n",
    "#                 'choice': {'mape': mape_choice,\n",
    "#                            'rmse': rmse_choice,\n",
    "#                           },\n",
    "               'Parameter': {'mape': mape_par,\n",
    "                             'rmse': rmse_par\n",
    "                           }\n",
    "            }\n",
    "    return results"
   ]
  },
  {
   "cell_type": "markdown",
   "metadata": {},
   "source": [
    "Get true probabilities based on big QMC model"
   ]
  },
  {
   "cell_type": "code",
   "execution_count": 8,
   "metadata": {},
   "outputs": [
    {
     "data": {
      "text/plain": [
       "100"
      ]
     },
     "execution_count": 8,
     "metadata": {},
     "output_type": "execute_result"
    }
   ],
   "source": [
    "smc250 = summarize_data('SMC(250)')\n",
    "len(smc250)"
   ]
  },
  {
   "cell_type": "code",
   "execution_count": 31,
   "metadata": {},
   "outputs": [
    {
     "name": "stdout",
     "output_type": "stream",
     "text": [
      "100\n",
      "      fun: nan\n",
      " hess_inv: array([[ 7.95384472e-03, -2.10314516e-03, -1.34707456e-03,\n",
      "         1.80204711e-01, -5.01558323e-01,  1.07650173e-01],\n",
      "       [-2.10314516e-03,  1.06484684e-02,  4.94953765e-03,\n",
      "        -3.89576990e-01,  1.13254738e+00, -2.33998988e-01],\n",
      "       [-1.34707456e-03,  4.94953765e-03,  1.48310697e-02,\n",
      "        -1.24514052e+00,  3.57904416e+00, -7.45988794e-01],\n",
      "       [ 1.80204711e-01, -3.89576990e-01, -1.24514052e+00,\n",
      "         1.09046961e+02, -3.09368344e+02,  6.55162465e+01],\n",
      "       [-5.01558323e-01,  1.13254738e+00,  3.57904416e+00,\n",
      "        -3.09368344e+02,  8.83437028e+02, -1.85740859e+02],\n",
      "       [ 1.07650173e-01, -2.33998988e-01, -7.45988794e-01,\n",
      "         6.55162465e+01, -1.85740859e+02,  3.94198540e+01]])\n",
      "      jac: array([nan, nan, nan, nan, nan, nan])\n",
      "  message: 'Desired error not necessarily achieved due to precision loss.'\n",
      "     nfev: 1160\n",
      "      nit: 22\n",
      "     njev: 145\n",
      "   status: 2\n",
      "  success: False\n",
      "        x: array([-4.95544184e+00,  2.00668987e+01,  5.27578423e+01, -4.73279548e+03,\n",
      "        1.35318923e+04, -2.84317607e+03])\n",
      "      fun: nan\n",
      " hess_inv: array([[ 8.35194035e-03, -8.75142567e-03,  5.57801649e-05,\n",
      "         5.08630272e-01,  4.82638194e-03,  3.47094295e-02],\n",
      "       [-8.75142567e-03,  3.12250492e-01,  6.19839214e-02,\n",
      "        -2.96289366e+01, -2.68729274e-01, -1.48144648e+00],\n",
      "       [ 5.57801649e-05,  6.19839214e-02,  1.52245309e-02,\n",
      "        -6.19679808e+00, -5.92377349e-02, -3.30030454e-01],\n",
      "       [ 5.08630272e-01, -2.96289366e+01, -6.19679808e+00,\n",
      "         2.88393443e+03,  2.70425853e+01,  1.47825325e+02],\n",
      "       [ 4.82638194e-03, -2.68729274e-01, -5.92377349e-02,\n",
      "         2.70425853e+01,  3.36838697e-01,  1.36936657e+00],\n",
      "       [ 3.47094295e-02, -1.48144648e+00, -3.30030454e-01,\n",
      "         1.47825325e+02,  1.36936657e+00,  8.05815496e+00]])\n",
      "      jac: array([nan, nan, nan, nan, nan, nan])\n",
      "  message: 'Desired error not necessarily achieved due to precision loss.'\n",
      "     nfev: 1208\n",
      "      nit: 27\n",
      "     njev: 151\n",
      "   status: 2\n",
      "  success: False\n",
      "        x: array([ 5.26773758e+00, -1.23344848e+02, -2.88292271e+01,  1.22810819e+04,\n",
      "        1.14695544e+02,  6.15600270e+02])\n",
      "      fun: nan\n",
      " hess_inv: array([[ 2.19899161e-02, -1.90579555e-02,  5.87246505e-03,\n",
      "         1.10530234e+00,  6.92388612e+00,  1.94833770e+00],\n",
      "       [-1.90579555e-02,  3.00286568e-02, -6.92410127e-03,\n",
      "        -1.51622197e+00, -9.08052624e+00, -2.60149250e+00],\n",
      "       [ 5.87246505e-03, -6.92410127e-03,  3.14353139e-03,\n",
      "         4.45346397e-01,  2.75466349e+00,  7.77617202e-01],\n",
      "       [ 1.10530234e+00, -1.51622197e+00,  4.45346397e-01,\n",
      "         1.49510142e+02,  5.58843274e+02,  2.01970839e+02],\n",
      "       [ 6.92388612e+00, -9.08052624e+00,  2.75466349e+00,\n",
      "         5.58843274e+02,  3.18202714e+03,  9.31941108e+02],\n",
      "       [ 1.94833770e+00, -2.60149250e+00,  7.77617202e-01,\n",
      "         2.01970839e+02,  9.31941108e+02,  3.01545471e+02]])\n",
      "      jac: array([nan, nan, nan, nan, nan, nan])\n",
      "  message: 'Desired error not necessarily achieved due to precision loss.'\n",
      "     nfev: 1320\n",
      "      nit: 31\n",
      "     njev: 165\n",
      "   status: 2\n",
      "  success: False\n",
      "        x: array([ 3.01958041e+01, -3.39735693e+01,  1.03610115e+01,  2.49769291e+03,\n",
      "        1.39310421e+04,  4.11633628e+03])\n",
      "{'method': 'SMC(250)', 'theta': array([ 1.78680832, -0.37942643, -0.73298541,  0.11604583,  0.12030419,\n",
      "        0.04882466]), 'Parameter': {'mape': 62.2639082071015, 'rmse': 0.6460924193563231}}\n"
     ]
    }
   ],
   "source": [
    "ressmc250 = get_results(smc250,'SMC(250)')\n",
    "print(ressmc250)"
   ]
  },
  {
   "cell_type": "code",
   "execution_count": 14,
   "metadata": {},
   "outputs": [
    {
     "data": {
      "text/plain": [
       "100"
      ]
     },
     "execution_count": 14,
     "metadata": {},
     "output_type": "execute_result"
    }
   ],
   "source": [
    "qmc25 = summarize_data('QMC(25)')\n",
    "len(qmc25)"
   ]
  },
  {
   "cell_type": "code",
   "execution_count": 16,
   "metadata": {},
   "outputs": [
    {
     "data": {
      "text/plain": [
       "{'method': 'QMC(25)',\n",
       " 'theta': array([ 0.96361293,  0.8029465 , -1.11864207,  0.70108456,  0.46697882,\n",
       "         0.03907107]),\n",
       " 'Parameter': {'mape': 88.8744240008519, 'rmse': 0.550621223547447}}"
      ]
     },
     "execution_count": 16,
     "metadata": {},
     "output_type": "execute_result"
    }
   ],
   "source": [
    "resqmc25 = get_results(qmc25,'QMC(25)',Y_true)\n",
    "resqmc25"
   ]
  },
  {
   "cell_type": "code",
   "execution_count": 11,
   "metadata": {},
   "outputs": [
    {
     "name": "stdout",
     "output_type": "stream",
     "text": [
      "100 0-100_SMC(500)_results.p\n"
     ]
    }
   ],
   "source": [
    "model = 'SMC(500)'\n",
    "for file in os.listdir('.\\\\resultaten\\\\%s'%(model)):\n",
    "    if file.endswith('%s_results.p'%(model)):\n",
    "        infile = open(os.path.join('.\\\\resultaten\\\\%s'%(model), file), 'rb')\n",
    "        opt_list = pickle.load(infile)\n",
    "        print(len(opt_list),file)"
   ]
  },
  {
   "cell_type": "code",
   "execution_count": null,
   "metadata": {},
   "outputs": [],
   "source": []
  }
 ],
 "metadata": {
  "kernelspec": {
   "display_name": "Python 3",
   "language": "python",
   "name": "python3"
  },
  "language_info": {
   "codemirror_mode": {
    "name": "ipython",
    "version": 3
   },
   "file_extension": ".py",
   "mimetype": "text/x-python",
   "name": "python",
   "nbconvert_exporter": "python",
   "pygments_lexer": "ipython3",
   "version": "3.7.1"
  }
 },
 "nbformat": 4,
 "nbformat_minor": 2
}
