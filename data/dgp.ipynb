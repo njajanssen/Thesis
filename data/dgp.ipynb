{
 "cells": [
  {
   "cell_type": "code",
   "execution_count": 1,
   "metadata": {},
   "outputs": [],
   "source": [
    "import pandas as pd\n",
    "import numpy as np\n",
    "import pickle\n",
    "import csv\n",
    "import time\n",
    "import os\n",
    "from numba import njit\n",
    "os.chdir('..')\n",
    "from qmc import QMC\n",
    "from mmnl import MMNL\n",
    "os.chdir('./data')\n",
    "import matplotlib.pyplot as plt"
   ]
  },
  {
   "cell_type": "markdown",
   "metadata": {},
   "source": [
    "Load data in the format used by k. Train."
   ]
  },
  {
   "cell_type": "code",
   "execution_count": 2,
   "metadata": {},
   "outputs": [],
   "source": [
    "def load_data(path):\n",
    "    dat = np.load(path)\n",
    "    X = dat[:, :-1]\n",
    "    Y = np.reshape(dat[:, -1], (-1, 1))\n",
    "    return X, Y\n",
    "X, Y = load_data('data.npy')"
   ]
  },
  {
   "cell_type": "code",
   "execution_count": 3,
   "metadata": {},
   "outputs": [
    {
     "name": "stdout",
     "output_type": "stream",
     "text": [
      "[[  1.          0.          0.        ...   3.7         5.2000001\n",
      "    3.4000002]\n",
      " [  1.          0.          0.        ...   4.3000001   5.2000001\n",
      "    4.4      ]\n",
      " [  1.          0.          0.        ...   2.5         4.6\n",
      "    4.8      ]\n",
      " ...\n",
      " [300.          0.          0.        ...   3.5999998   5.0000001\n",
      "    2.5      ]\n",
      " [300.          0.          0.        ...   3.7         5.0000001\n",
      "    2.8000001]\n",
      " [300.          0.          0.        ...   3.7         3.5\n",
      "    3.4000002]]\n"
     ]
    }
   ],
   "source": [
    "print(X)"
   ]
  },
  {
   "cell_type": "code",
   "execution_count": 4,
   "metadata": {},
   "outputs": [],
   "source": [
    "def utilities(X, beta):\n",
    "    #performs matrix product to obtain the probability of every row\n",
    "    #X should be in format [display, feature, price]\n",
    "    try:\n",
    "        assert(X.shape == (11192, 5) and beta.shape == (3,300))\n",
    "    except AssertionError:\n",
    "        raise AssertionError('Ga X ff in juiste format gooien. X: %s, beta: %s' %(X.shape,beta.shape))\n",
    "    beta_choice = np.zeros((3,11192))\n",
    "    for i in range(11192):\n",
    "        id = int(X[i,0])\n",
    "        beta_choice[:,i] = beta[:,id-1]\n",
    "    eps = np.random.gumbel(size=(11192,))\n",
    "    P = (X[:,2:]@ beta_choice)[:,0] + eps\n",
    "#     try:\n",
    "#         p = P[0:4]\n",
    "#         check = p/np.sum(p)\n",
    "#         assert(np.sum(check) == 1. or np.sum(check) == 1)\n",
    "#     except AssertionError:\n",
    "#         raise AssertionError('Kansen van eerste aankoop sommeren niet naar 1 %f'%(np.sum(check)))\n",
    "\n",
    "    Y = []\n",
    "    for i in range(0,len(P), 4):\n",
    "        choice = np.argmax(P[i:i+4])\n",
    "#         p = P[i:i+4]\n",
    "#         check = p/np.sum(p)\n",
    "#         print(np.sum(check))\n",
    "        Y.append(int(choice))\n",
    "    return np.array(Y)"
   ]
  },
  {
   "cell_type": "code",
   "execution_count": 5,
   "metadata": {},
   "outputs": [],
   "source": [
    "# @njit\n",
    "def probs(X,beta):\n",
    "    #performs matrix product to obtain the probability of every row\n",
    "    #X should be in format [display, feature, price]\n",
    "    if not (X.shape == (11192, 5) and beta.shape == (3,300)):\n",
    "        raise AssertionError('Ga X ff in juiste format gooien.')\n",
    "    beta_choice = np.zeros((3,11192))\n",
    "    for i in range(11192):\n",
    "        id = int(X[i,0])\n",
    "        beta_choice[:,i] = beta[:,id-1]   \n",
    "    P = np.exp((X[:,2:]@ beta_choice)[:,0])\n",
    "        \n",
    "    if not (P.shape == (11192,)):\n",
    "        raise AssertionError('Product van X en beta gaat niet goed.')\n",
    "#     try:\n",
    "#         p = P[0:4]\n",
    "#         check = p/np.sum(p)\n",
    "#         assert(np.sum(check) == 1. or np.sum(check) == 1)\n",
    "#     except AssertionError:\n",
    "#         raise AssertionError('Kansen van eerste aankoop sommeren niet naar 1 %f'%(np.sum(check)))\n",
    "\n",
    "    Y = np.zeros((2798,))\n",
    "    for i in range(0,11192, 4):\n",
    "        sum = P[i:i+4].sum(axis=0)\n",
    "        Y[i//4] = (P[i:i+4]/sum).argmax(axis=0)\n",
    "#         p = P[i:i+4]\n",
    "#         check = p/np.sum(p)\n",
    "#         print(np.sum(check))\n",
    "    return Y"
   ]
  },
  {
   "cell_type": "code",
   "execution_count": 15,
   "metadata": {},
   "outputs": [
    {
     "name": "stdout",
     "output_type": "stream",
     "text": [
      "Wall time: 0 ns\n"
     ]
    }
   ],
   "source": [
    "%%time\n",
    "def dgp(X: np.ndarray, D, method):\n",
    "    #X: dataset\n",
    "    #D: amount of datasets\n",
    "    np.random.seed(123)\n",
    "    theta = np.array([1.5,  1.,  -1.1,  0.4,  0.1,  0.6])\n",
    "    Y_array = np.zeros((2798,D))\n",
    "    P = np.zeros((11192,D))\n",
    "    if method == 'QMC':\n",
    "        delta = QMC(300,3,D)\n",
    "    elif method == 'SMC':\n",
    "        delta = np.random.standard_normal((300,3,D))\n",
    "    print(method)\n",
    "    beta = theta[:3].reshape(-1,1) + delta * theta[3:].reshape(-1,1)\n",
    "    for d in range(D):\n",
    "        Y = []\n",
    "        for row in X:\n",
    "            uts = []\n",
    "            for k in range(4):\n",
    "                x = np.array([row[1 + k], row[5 + k], row[9 + k]])\n",
    "                uts.append(x@ beta[int(row[0])-1,:,d] + np.random.gumbel())\n",
    "\n",
    "            pred = np.argmax(uts)\n",
    "            Y.append(pred)\n",
    "        Y_array[:,d] = Y\n",
    "\n",
    "    return Y_array\n",
    "    "
   ]
  },
  {
   "cell_type": "code",
   "execution_count": 16,
   "metadata": {},
   "outputs": [
    {
     "name": "stdout",
     "output_type": "stream",
     "text": [
      "SMC\n",
      "Wall time: 16.6 s\n"
     ]
    }
   ],
   "source": [
    "%%time\n",
    "D = 200\n",
    "Y_dgp= dgp(X,D,'SMC')"
   ]
  },
  {
   "cell_type": "code",
   "execution_count": 17,
   "metadata": {},
   "outputs": [],
   "source": [
    "pickle.dump( Y_dgp, open( \"%i_%s_dgp.p\"%(D,'SMC'), \"wb\" ) )"
   ]
  }
 ],
 "metadata": {
  "kernelspec": {
   "display_name": "Python 3",
   "language": "python",
   "name": "python3"
  },
  "language_info": {
   "codemirror_mode": {
    "name": "ipython",
    "version": 3
   },
   "file_extension": ".py",
   "mimetype": "text/x-python",
   "name": "python",
   "nbconvert_exporter": "python",
   "pygments_lexer": "ipython3",
   "version": "3.7.1"
  }
 },
 "nbformat": 4,
 "nbformat_minor": 2
}
