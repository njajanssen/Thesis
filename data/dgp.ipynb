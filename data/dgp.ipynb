{
 "cells": [
  {
   "cell_type": "code",
   "execution_count": 1,
   "metadata": {},
   "outputs": [],
   "source": [
    "import pandas as pd\n",
    "import numpy as np\n",
    "import pickle\n",
    "import csv\n",
    "import time\n",
    "import os\n",
    "from numba import njit\n",
    "os.chdir('..')\n",
    "from qmc import QMC\n",
    "os.chdir('./data')"
   ]
  },
  {
   "cell_type": "markdown",
   "metadata": {},
   "source": [
    "Load data in the format used by k. Train."
   ]
  },
  {
   "cell_type": "code",
   "execution_count": 2,
   "metadata": {},
   "outputs": [
    {
     "data": {
      "text/html": [
       "<div>\n",
       "<style scoped>\n",
       "    .dataframe tbody tr th:only-of-type {\n",
       "        vertical-align: middle;\n",
       "    }\n",
       "\n",
       "    .dataframe tbody tr th {\n",
       "        vertical-align: top;\n",
       "    }\n",
       "\n",
       "    .dataframe thead th {\n",
       "        text-align: right;\n",
       "    }\n",
       "</style>\n",
       "<table border=\"1\" class=\"dataframe\">\n",
       "  <thead>\n",
       "    <tr style=\"text-align: right;\">\n",
       "      <th></th>\n",
       "      <th>chosen</th>\n",
       "      <th>id</th>\n",
       "      <th>alt</th>\n",
       "      <th>display</th>\n",
       "      <th>feature</th>\n",
       "      <th>price</th>\n",
       "      <th>chid</th>\n",
       "    </tr>\n",
       "  </thead>\n",
       "  <tbody>\n",
       "    <tr>\n",
       "      <th>0</th>\n",
       "      <td>0</td>\n",
       "      <td>1</td>\n",
       "      <td>0</td>\n",
       "      <td>0</td>\n",
       "      <td>0</td>\n",
       "      <td>4.6</td>\n",
       "      <td>0</td>\n",
       "    </tr>\n",
       "    <tr>\n",
       "      <th>1</th>\n",
       "      <td>0</td>\n",
       "      <td>1</td>\n",
       "      <td>1</td>\n",
       "      <td>0</td>\n",
       "      <td>0</td>\n",
       "      <td>3.7</td>\n",
       "      <td>0</td>\n",
       "    </tr>\n",
       "    <tr>\n",
       "      <th>2</th>\n",
       "      <td>1</td>\n",
       "      <td>1</td>\n",
       "      <td>2</td>\n",
       "      <td>0</td>\n",
       "      <td>0</td>\n",
       "      <td>5.2</td>\n",
       "      <td>0</td>\n",
       "    </tr>\n",
       "    <tr>\n",
       "      <th>3</th>\n",
       "      <td>0</td>\n",
       "      <td>1</td>\n",
       "      <td>3</td>\n",
       "      <td>0</td>\n",
       "      <td>0</td>\n",
       "      <td>3.4</td>\n",
       "      <td>0</td>\n",
       "    </tr>\n",
       "    <tr>\n",
       "      <th>4</th>\n",
       "      <td>0</td>\n",
       "      <td>1</td>\n",
       "      <td>0</td>\n",
       "      <td>0</td>\n",
       "      <td>0</td>\n",
       "      <td>4.6</td>\n",
       "      <td>1</td>\n",
       "    </tr>\n",
       "    <tr>\n",
       "      <th>5</th>\n",
       "      <td>0</td>\n",
       "      <td>1</td>\n",
       "      <td>1</td>\n",
       "      <td>0</td>\n",
       "      <td>0</td>\n",
       "      <td>4.3</td>\n",
       "      <td>1</td>\n",
       "    </tr>\n",
       "    <tr>\n",
       "      <th>6</th>\n",
       "      <td>1</td>\n",
       "      <td>1</td>\n",
       "      <td>2</td>\n",
       "      <td>0</td>\n",
       "      <td>0</td>\n",
       "      <td>5.2</td>\n",
       "      <td>1</td>\n",
       "    </tr>\n",
       "    <tr>\n",
       "      <th>7</th>\n",
       "      <td>0</td>\n",
       "      <td>1</td>\n",
       "      <td>3</td>\n",
       "      <td>0</td>\n",
       "      <td>0</td>\n",
       "      <td>4.4</td>\n",
       "      <td>1</td>\n",
       "    </tr>\n",
       "    <tr>\n",
       "      <th>8</th>\n",
       "      <td>0</td>\n",
       "      <td>1</td>\n",
       "      <td>0</td>\n",
       "      <td>0</td>\n",
       "      <td>0</td>\n",
       "      <td>4.6</td>\n",
       "      <td>2</td>\n",
       "    </tr>\n",
       "    <tr>\n",
       "      <th>9</th>\n",
       "      <td>0</td>\n",
       "      <td>1</td>\n",
       "      <td>1</td>\n",
       "      <td>0</td>\n",
       "      <td>1</td>\n",
       "      <td>2.5</td>\n",
       "      <td>2</td>\n",
       "    </tr>\n",
       "  </tbody>\n",
       "</table>\n",
       "</div>"
      ],
      "text/plain": [
       "   chosen  id  alt  display  feature  price  chid\n",
       "0       0   1    0        0        0    4.6     0\n",
       "1       0   1    1        0        0    3.7     0\n",
       "2       1   1    2        0        0    5.2     0\n",
       "3       0   1    3        0        0    3.4     0\n",
       "4       0   1    0        0        0    4.6     1\n",
       "5       0   1    1        0        0    4.3     1\n",
       "6       1   1    2        0        0    5.2     1\n",
       "7       0   1    3        0        0    4.4     1\n",
       "8       0   1    0        0        0    4.6     2\n",
       "9       0   1    1        0        1    2.5     2"
      ]
     },
     "execution_count": 2,
     "metadata": {},
     "output_type": "execute_result"
    }
   ],
   "source": [
    "d = pd.read_csv('catsup_trainformat.csv', delimiter=',')\n",
    "d.head(10)"
   ]
  },
  {
   "cell_type": "code",
   "execution_count": 3,
   "metadata": {},
   "outputs": [
    {
     "data": {
      "text/plain": [
       "(11192, 5)"
      ]
     },
     "execution_count": 3,
     "metadata": {},
     "output_type": "execute_result"
    }
   ],
   "source": [
    "X = d.values[:,1:-1]\n",
    "X.shape"
   ]
  },
  {
   "cell_type": "code",
   "execution_count": 4,
   "metadata": {},
   "outputs": [],
   "source": [
    "def utilities(X, beta):\n",
    "    #performs matrix product to obtain the probability of every row\n",
    "    #X should be in format [display, feature, price]\n",
    "    try:\n",
    "        assert(X.shape == (11192, 5) and beta.shape == (3,300))\n",
    "    except AssertionError:\n",
    "        raise AssertionError('Ga X ff in juiste format gooien. X: %s, beta: %s' %(X.shape,beta.shape))\n",
    "    beta_choice = np.zeros((3,11192))\n",
    "    for i in range(11192):\n",
    "        id = int(X[i,0])\n",
    "        beta_choice[:,i] = beta[:,id-1]\n",
    "    eps = np.random.gumbel(size=(11192,))\n",
    "    P = (X[:,2:]@ beta_choice)[:,0] + eps\n",
    "#     try:\n",
    "#         p = P[0:4]\n",
    "#         check = p/np.sum(p)\n",
    "#         assert(np.sum(check) == 1. or np.sum(check) == 1)\n",
    "#     except AssertionError:\n",
    "#         raise AssertionError('Kansen van eerste aankoop sommeren niet naar 1 %f'%(np.sum(check)))\n",
    "\n",
    "    Y = []\n",
    "    for i in range(0,len(P), 4):\n",
    "        choice = np.argmax(P[i:i+4])\n",
    "#         p = P[i:i+4]\n",
    "#         check = p/np.sum(p)\n",
    "#         print(np.sum(check))\n",
    "        Y.append(int(choice))\n",
    "    return np.array(Y)"
   ]
  },
  {
   "cell_type": "code",
   "execution_count": 21,
   "metadata": {},
   "outputs": [],
   "source": [
    "# @njit\n",
    "def probs(X,beta):\n",
    "    #performs matrix product to obtain the probability of every row\n",
    "    #X should be in format [display, feature, price]\n",
    "    if not (X.shape == (11192, 5) and beta.shape == (3,300)):\n",
    "        raise AssertionError('Ga X ff in juiste format gooien.')\n",
    "    beta_choice = np.zeros((3,11192))\n",
    "    for i in range(11192):\n",
    "        id = int(X[i,0])\n",
    "        beta_choice[:,i] = beta[:,id-1]   \n",
    "    P = np.exp((X[:,2:]@ beta_choice)[:,0])\n",
    "        \n",
    "    if not (P.shape == (11192,)):\n",
    "        raise AssertionError('Product van X en beta gaat niet goed.')\n",
    "#     try:\n",
    "#         p = P[0:4]\n",
    "#         check = p/np.sum(p)\n",
    "#         assert(np.sum(check) == 1. or np.sum(check) == 1)\n",
    "#     except AssertionError:\n",
    "#         raise AssertionError('Kansen van eerste aankoop sommeren niet naar 1 %f'%(np.sum(check)))\n",
    "\n",
    "    Y = np.zeros((2798,))\n",
    "    for i in range(0,11192, 4):\n",
    "        sum = P[i:i+4].sum(axis=0)\n",
    "        Y[i//4] = (P[i:i+4]/sum).argmax(axis=0)\n",
    "#         p = P[i:i+4]\n",
    "#         check = p/np.sum(p)\n",
    "#         print(np.sum(check))\n",
    "    return Y"
   ]
  },
  {
   "cell_type": "code",
   "execution_count": 22,
   "metadata": {},
   "outputs": [
    {
     "name": "stdout",
     "output_type": "stream",
     "text": [
      "Wall time: 0 ns\n"
     ]
    }
   ],
   "source": [
    "%%time\n",
    "def dgp(X: np.ndarray, D, calcer, dist = np.random.standard_normal):\n",
    "    #X: dataset\n",
    "    #D: amount of datasets\n",
    "    np.random.seed(123)\n",
    "    theta = np.array([1.5,  1.,  -1.1,  0.4,  0.1,  0.6])\n",
    "    the_big_dict = {}\n",
    "    Y_array = np.zeros((2798,D))\n",
    "    if dist == QMC:\n",
    "        delta = dist((300,3,D))\n",
    "        method = 'QMC'\n",
    "    elif dist == np.random.standard_normal:\n",
    "        delta = dist((300,3,D))\n",
    "        method = 'MC'\n",
    "    print(method)\n",
    "    for i in range(D):\n",
    "        delta_d = delta[:,:,i].T\n",
    "        beta = theta[:K][:, None] + delta_d * theta[K:][:, None]\n",
    "        Y = calcer(X,beta)\n",
    "        Y_array[:,i] = Y\n",
    "    the_big_dict['theta: %s'%(theta)] = Y_array\n",
    "    return the_big_dict, method\n",
    "    "
   ]
  },
  {
   "cell_type": "code",
   "execution_count": 23,
   "metadata": {},
   "outputs": [],
   "source": [
    "#display_mean, feature_mean, price_mean, display_sigma, feature_sigma, price_disgma\n",
    "N = X.shape[0]\n",
    "K = 3"
   ]
  },
  {
   "cell_type": "code",
   "execution_count": 24,
   "metadata": {},
   "outputs": [
    {
     "name": "stdout",
     "output_type": "stream",
     "text": [
      "MC\n",
      "Wall time: 6min\n"
     ]
    }
   ],
   "source": [
    "%%time\n",
    "D = 500\n",
    "dicter, method = dgp(X,D,probs)\n",
    "pickle.dump( dicter, open( \"%i_%s_dgp_probs.p\"%(D,method), \"wb\" ) )"
   ]
  },
  {
   "cell_type": "code",
   "execution_count": 31,
   "metadata": {},
   "outputs": [],
   "source": [
    "dgp_uts = pickle.load(open('500_MC_dgp_uts.p', 'rb'))\n",
    "dgp_probs = pickle.load(open('500_MC_dgp_probs.p','rb'))"
   ]
  },
  {
   "cell_type": "code",
   "execution_count": 34,
   "metadata": {},
   "outputs": [
    {
     "data": {
      "text/plain": [
       "dict_values([array([[3., 3., 3., ..., 3., 3., 3.],\n",
       "       [1., 1., 1., ..., 1., 1., 1.],\n",
       "       [1., 1., 1., ..., 1., 1., 1.],\n",
       "       ...,\n",
       "       [3., 3., 3., ..., 3., 3., 3.],\n",
       "       [3., 3., 3., ..., 3., 3., 3.],\n",
       "       [2., 2., 2., ..., 2., 2., 2.]])])"
      ]
     },
     "execution_count": 34,
     "metadata": {},
     "output_type": "execute_result"
    }
   ],
   "source": [
    "dgp_probs.values()"
   ]
  },
  {
   "cell_type": "code",
   "execution_count": 33,
   "metadata": {},
   "outputs": [
    {
     "data": {
      "text/plain": [
       "72014.0"
      ]
     },
     "execution_count": 33,
     "metadata": {},
     "output_type": "execute_result"
    }
   ],
   "source": [
    "np.sum(dgp_probs['theta: [ 1.5  1.  -1.1  0.4  0.1  0.6]'] - dgp_uts['theta: [ 1.5  1.  -1.1  0.4  0.1  0.6]'])"
   ]
  },
  {
   "cell_type": "code",
   "execution_count": 36,
   "metadata": {},
   "outputs": [
    {
     "data": {
      "text/plain": [
       "dict_values([array([[3., 3., 3., ..., 3., 1., 1.],\n",
       "       [0., 3., 0., ..., 0., 3., 2.],\n",
       "       [1., 1., 1., ..., 1., 1., 2.],\n",
       "       ...,\n",
       "       [3., 1., 3., ..., 3., 3., 2.],\n",
       "       [3., 1., 0., ..., 3., 3., 0.],\n",
       "       [1., 1., 1., ..., 3., 2., 0.]])])"
      ]
     },
     "execution_count": 36,
     "metadata": {},
     "output_type": "execute_result"
    }
   ],
   "source": [
    "dgp_uts.values()"
   ]
  },
  {
   "cell_type": "code",
   "execution_count": null,
   "metadata": {},
   "outputs": [],
   "source": []
  }
 ],
 "metadata": {
  "kernelspec": {
   "display_name": "Python 3",
   "language": "python",
   "name": "python3"
  },
  "language_info": {
   "codemirror_mode": {
    "name": "ipython",
    "version": 3
   },
   "file_extension": ".py",
   "mimetype": "text/x-python",
   "name": "python",
   "nbconvert_exporter": "python",
   "pygments_lexer": "ipython3",
   "version": "3.7.1"
  }
 },
 "nbformat": 4,
 "nbformat_minor": 2
}
