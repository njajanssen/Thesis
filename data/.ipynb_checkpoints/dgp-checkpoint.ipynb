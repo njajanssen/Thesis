{
 "cells": [
  {
   "cell_type": "code",
   "execution_count": 1,
   "metadata": {},
   "outputs": [],
   "source": [
    "import pandas as pd\n",
    "import numpy as np\n",
    "import pickle\n",
    "import csv\n",
    "import time\n",
    "import os\n",
    "from numba import njit\n",
    "os.chdir('..')\n",
    "from qmc import QMC\n",
    "from mmnl import MMNL\n",
    "os.chdir('./data')\n",
    "import matplotlib.pyplot as plt"
   ]
  },
  {
   "cell_type": "markdown",
   "metadata": {},
   "source": [
    "Load data in the format used by k. Train."
   ]
  },
  {
   "cell_type": "code",
   "execution_count": 2,
   "metadata": {},
   "outputs": [],
   "source": [
    "def load_data(path):\n",
    "    dat = np.load(path)\n",
    "    X = dat[:, :-1]\n",
    "    Y = np.reshape(dat[:, -1], (-1, 1))\n",
    "    return X, Y\n",
    "X, Y = load_data('data.npy')"
   ]
  },
  {
   "cell_type": "code",
   "execution_count": 151,
   "metadata": {},
   "outputs": [
    {
     "name": "stdout",
     "output_type": "stream",
     "text": [
      "[[  1.          0.          0.        ...   3.7         5.2000001\n",
      "    3.4000002]\n",
      " [  1.          0.          0.        ...   4.3000001   5.2000001\n",
      "    4.4      ]\n",
      " [  1.          0.          0.        ...   2.5         4.6\n",
      "    4.8      ]\n",
      " ...\n",
      " [300.          0.          0.        ...   3.5999998   5.0000001\n",
      "    2.5      ]\n",
      " [300.          0.          0.        ...   3.7         5.0000001\n",
      "    2.8000001]\n",
      " [300.          0.          0.        ...   3.7         3.5\n",
      "    3.4000002]]\n"
     ]
    }
   ],
   "source": [
    "print(X)"
   ]
  },
  {
   "cell_type": "code",
   "execution_count": 3,
   "metadata": {},
   "outputs": [],
   "source": [
    "def utilities(X, beta):\n",
    "    #performs matrix product to obtain the probability of every row\n",
    "    #X should be in format [display, feature, price]\n",
    "    try:\n",
    "        assert(X.shape == (11192, 5) and beta.shape == (3,300))\n",
    "    except AssertionError:\n",
    "        raise AssertionError('Ga X ff in juiste format gooien. X: %s, beta: %s' %(X.shape,beta.shape))\n",
    "    beta_choice = np.zeros((3,11192))\n",
    "    for i in range(11192):\n",
    "        id = int(X[i,0])\n",
    "        beta_choice[:,i] = beta[:,id-1]\n",
    "    eps = np.random.gumbel(size=(11192,))\n",
    "    P = (X[:,2:]@ beta_choice)[:,0] + eps\n",
    "#     try:\n",
    "#         p = P[0:4]\n",
    "#         check = p/np.sum(p)\n",
    "#         assert(np.sum(check) == 1. or np.sum(check) == 1)\n",
    "#     except AssertionError:\n",
    "#         raise AssertionError('Kansen van eerste aankoop sommeren niet naar 1 %f'%(np.sum(check)))\n",
    "\n",
    "    Y = []\n",
    "    for i in range(0,len(P), 4):\n",
    "        choice = np.argmax(P[i:i+4])\n",
    "#         p = P[i:i+4]\n",
    "#         check = p/np.sum(p)\n",
    "#         print(np.sum(check))\n",
    "        Y.append(int(choice))\n",
    "    return np.array(Y)"
   ]
  },
  {
   "cell_type": "code",
   "execution_count": 4,
   "metadata": {},
   "outputs": [],
   "source": [
    "# @njit\n",
    "def probs(X,beta):\n",
    "    #performs matrix product to obtain the probability of every row\n",
    "    #X should be in format [display, feature, price]\n",
    "    if not (X.shape == (11192, 5) and beta.shape == (3,300)):\n",
    "        raise AssertionError('Ga X ff in juiste format gooien.')\n",
    "    beta_choice = np.zeros((3,11192))\n",
    "    for i in range(11192):\n",
    "        id = int(X[i,0])\n",
    "        beta_choice[:,i] = beta[:,id-1]   \n",
    "    P = np.exp((X[:,2:]@ beta_choice)[:,0])\n",
    "        \n",
    "    if not (P.shape == (11192,)):\n",
    "        raise AssertionError('Product van X en beta gaat niet goed.')\n",
    "#     try:\n",
    "#         p = P[0:4]\n",
    "#         check = p/np.sum(p)\n",
    "#         assert(np.sum(check) == 1. or np.sum(check) == 1)\n",
    "#     except AssertionError:\n",
    "#         raise AssertionError('Kansen van eerste aankoop sommeren niet naar 1 %f'%(np.sum(check)))\n",
    "\n",
    "    Y = np.zeros((2798,))\n",
    "    for i in range(0,11192, 4):\n",
    "        sum = P[i:i+4].sum(axis=0)\n",
    "        Y[i//4] = (P[i:i+4]/sum).argmax(axis=0)\n",
    "#         p = P[i:i+4]\n",
    "#         check = p/np.sum(p)\n",
    "#         print(np.sum(check))\n",
    "    return Y"
   ]
  },
  {
   "cell_type": "code",
   "execution_count": 160,
   "metadata": {},
   "outputs": [
    {
     "name": "stdout",
     "output_type": "stream",
     "text": [
      "Wall time: 0 ns\n"
     ]
    }
   ],
   "source": [
    "%%time\n",
    "def dgp(X: np.ndarray, D, method):\n",
    "    #X: dataset\n",
    "    #D: amount of datasets\n",
    "    np.random.seed(123)\n",
    "    theta = np.array([1.5,  1.,  -1.1,  0.4,  0.1,  0.6])\n",
    "    Y_array = np.zeros((2798,D))\n",
    "    P = np.zeros((11192,D))\n",
    "    if method == 'QMC':\n",
    "        delta = QMC((300,3,D))\n",
    "    elif method == 'SMC':\n",
    "        delta = np.random.standard_normal((300,3,D))\n",
    "    print(method)\n",
    "    beta = theta[:3].reshape(-1,1) + delta * theta[3:].reshape(-1,1)\n",
    "    for t in range(X.shape[0]):\n",
    "        obs = int(X[t,0])-1\n",
    "        x = np.zeros((4,3))\n",
    "        k = 0\n",
    "        for i in range(1, 10, 4):\n",
    "            x[:,k] = np.array([X[obs, i + j] for j in range(4)])\n",
    "            k+=1\n",
    "        for brand in range(4):\n",
    "            P[t*4+brand,:] = (x[brand,:] @ beta[obs,:,:] +np.random.gumbel())\n",
    "    \n",
    "    for d in range(D):\n",
    "        Y = np.zeros((2798,))\n",
    "        for i in range(0,11192, 4):\n",
    "            Y[i//4] = np.argmax(P[i:i+4,d])\n",
    "        Y_array[:,d] = Y\n",
    "            \n",
    "            \n",
    "    print(Y_array)\n",
    "    return Y_array, P\n",
    "    "
   ]
  },
  {
   "cell_type": "code",
   "execution_count": 162,
   "metadata": {},
   "outputs": [
    {
     "name": "stdout",
     "output_type": "stream",
     "text": [
      "SMC\n",
      "[[3. 3. 3. ... 3. 3. 3.]\n",
      " [2. 2. 3. ... 3. 2. 3.]\n",
      " [1. 1. 3. ... 3. 3. 3.]\n",
      " ...\n",
      " [1. 1. 1. ... 1. 1. 1.]\n",
      " [1. 1. 1. ... 1. 1. 1.]\n",
      " [1. 1. 1. ... 1. 1. 1.]]\n",
      "Wall time: 165 ms\n"
     ]
    }
   ],
   "source": [
    "%%time\n",
    "D = 10\n",
    "Y_dgp, P= dgp(X,D,'SMC')"
   ]
  },
  {
   "cell_type": "code",
   "execution_count": 132,
   "metadata": {},
   "outputs": [
    {
     "name": "stdout",
     "output_type": "stream",
     "text": [
      "[0.04059729 0.31788023 0.01029562 0.63122685]\n",
      "[0.04692733 0.3237661  0.01294858 0.61635798]\n",
      "[0.14304796 0.33345306 0.08136662 0.44213235]\n",
      "[0.27515738 0.20427372 0.33560387 0.18496504]\n",
      "[0.20373264 0.29887196 0.15780141 0.33959399]\n",
      "[0.24055119 0.26235982 0.2270288  0.2700602 ]\n",
      "[0.13206429 0.33688725 0.07073797 0.46031049]\n",
      "[0.22281235 0.28186039 0.1904917  0.30483556]\n",
      "[0.10946538 0.34106814 0.05131376 0.49815271]\n",
      "[0.1671012  0.32294091 0.10770037 0.40225751]\n"
     ]
    }
   ],
   "source": [
    "for p in range(P.shape[1]):\n",
    "    print(P[:4,p])"
   ]
  },
  {
   "cell_type": "code",
   "execution_count": null,
   "metadata": {},
   "outputs": [],
   "source": [
    "pickle.dump( dicter, open( \"%i_%s_dgp.p\"%(D,method), \"wb\" ) )"
   ]
  },
  {
   "cell_type": "code",
   "execution_count": 12,
   "metadata": {},
   "outputs": [],
   "source": [
    "dgp_tip = pickle.load(open('1000_Y_dgp_tim.p', 'rb'))"
   ]
  },
  {
   "cell_type": "code",
   "execution_count": 13,
   "metadata": {},
   "outputs": [
    {
     "data": {
      "text/plain": [
       "array([[3., 3., 0., ..., 0., 1., 2.],\n",
       "       [3., 3., 1., ..., 0., 1., 3.],\n",
       "       [1., 1., 1., ..., 0., 3., 1.],\n",
       "       ...,\n",
       "       [3., 3., 3., ..., 3., 3., 3.],\n",
       "       [3., 3., 3., ..., 3., 3., 1.],\n",
       "       [2., 2., 1., ..., 2., 1., 2.]])"
      ]
     },
     "execution_count": 13,
     "metadata": {},
     "output_type": "execute_result"
    }
   ],
   "source": [
    "dgp_tip"
   ]
  },
  {
   "cell_type": "code",
   "execution_count": 69,
   "metadata": {},
   "outputs": [
    {
     "data": {
      "text/plain": [
       "1059308.0"
      ]
     },
     "execution_count": 69,
     "metadata": {},
     "output_type": "execute_result"
    }
   ],
   "source": [
    "np.sum(np.abs(Y_dgp - dgp_tip[:,:500]))"
   ]
  },
  {
   "cell_type": "code",
   "execution_count": 166,
   "metadata": {},
   "outputs": [
    {
     "data": {
      "text/plain": [
       "array([[ -1.57445926,   0.50482387,  -6.19249801,  -0.36430837,\n",
       "         -7.07030717,  -5.36979068,  -1.10598619,  -7.55275526,\n",
       "         -3.9961862 ,  -5.98804004],\n",
       "       [ -3.88960745,  -2.21714059,  -7.60411688,  -2.91622521,\n",
       "         -8.31018077,  -6.94237403,  -3.51279216,  -8.69823684,\n",
       "         -5.83751825,  -7.43966156],\n",
       "       [ -4.4219143 ,  -2.07142028,  -9.64230603,  -3.05391761,\n",
       "        -10.63461206,  -8.71228903,  -3.89233603, -11.17998817,\n",
       "         -7.15951872,  -9.41117963],\n",
       "       [  1.99893109,   3.53579263,  -1.41440209,   2.8933905 ,\n",
       "         -2.0632176 ,  -0.80631403,   2.34519382,  -2.41980969,\n",
       "          0.2089589 ,  -1.26328098]])"
      ]
     },
     "execution_count": 166,
     "metadata": {},
     "output_type": "execute_result"
    }
   ],
   "source": [
    "P[:4,:]"
   ]
  },
  {
   "cell_type": "code",
   "execution_count": null,
   "metadata": {},
   "outputs": [],
   "source": []
  }
 ],
 "metadata": {
  "kernelspec": {
   "display_name": "Python 3",
   "language": "python",
   "name": "python3"
  },
  "language_info": {
   "codemirror_mode": {
    "name": "ipython",
    "version": 3
   },
   "file_extension": ".py",
   "mimetype": "text/x-python",
   "name": "python",
   "nbconvert_exporter": "python",
   "pygments_lexer": "ipython3",
   "version": "3.7.1"
  }
 },
 "nbformat": 4,
 "nbformat_minor": 2
}
